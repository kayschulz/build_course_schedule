{
 "cells": [
  {
   "cell_type": "markdown",
   "metadata": {},
   "source": [
    "# Effect of Class Time on Grades, For Math Classes\n",
    "\n",
    "Alexander Bailey, Kayli Leung\n",
    "\n",
    "# Methodology\n",
    "We will perform a two-tail, two-sample t-test on the data. Using [Kaggle's UW Madison Grade's Database](https://www.kaggle.com/Madgrades/uw-madison-courses#schedules.csv).\n",
    "\n",
    "## Question\n",
    "\n",
    "Is a significant difference in the percentage of A's given based on whether a class starts before noon or after noon, given that the class is a math class. \n",
    "\n",
    "## Hypotheses\n",
    "We select an alpha value of 0.05.\n",
    "\n",
    "Null Hypothesis: There is no significant difference in the mean percentage of A's in the morning classes and afternoon math classes.\n",
    "\n",
    "Alternate Hypothesis: There is a significant difference in the mean percentage of A's in the morning and afternoon math classes.\n",
    "\n",
    "Class start and end time is listed in minutes from midnight."
   ]
  },
  {
   "cell_type": "code",
   "execution_count": 1,
   "metadata": {},
   "outputs": [],
   "source": [
    "import psycopg2\n",
    "import pandas as pd\n",
    "import matplotlib.pyplot as plt\n",
    "%matplotlib inline\n",
    "import seaborn as sns\n",
    "plt.style.use('seaborn')\n",
    "import numpy as np\n",
    "import scipy.stats as stats"
   ]
  },
  {
   "cell_type": "code",
   "execution_count": 2,
   "metadata": {},
   "outputs": [],
   "source": [
    "conn = psycopg2.connect(\"host=localhost,dbname=postgres,user=postgres\")\n",
    "\n",
    "cur = conn.cursor()"
   ]
  },
  {
   "cell_type": "code",
   "execution_count": 3,
   "metadata": {},
   "outputs": [],
   "source": [
    "group_and_as = \"\"\"\n",
    "SELECT \n",
    "  grade.a_count\n",
    ", grade.ab_count\n",
    ", grade.b_count\n",
    ", grade.bc_count\n",
    ", grade.c_count\n",
    ", grade.d_count\n",
    ", grade.f_count\n",
    ", sched.start_time\n",
    ", sect.section_type\n",
    ", grade.course_offering_uuid\n",
    ", grade.section_number\n",
    ", sub.name\n",
    "FROM \n",
    "  sections sect\n",
    "INNER JOIN \n",
    "  schedules sched \n",
    "ON \n",
    "  sched.uuid = sect.schedule_uuid\n",
    "INNER JOIN \n",
    "  grade_distributions grade \n",
    "ON \n",
    "  sect.number = grade.section_number\n",
    "INNER JOIN\n",
    "  subject_memberships sub_m\n",
    "ON\n",
    "  sub_m.course_offering_uuid = sect.course_offering_uuid\n",
    "INNER JOIN\n",
    "  subjects sub\n",
    "ON\n",
    "  sub.code = sub_m.subject_code\n",
    "AND \n",
    "  sect.course_offering_uuid = grade.course_offering_uuid\n",
    "WHERE\n",
    "  sub.name = 'Mathematics';\n",
    "\"\"\""
   ]
  },
  {
   "cell_type": "code",
   "execution_count": 4,
   "metadata": {},
   "outputs": [
    {
     "data": {
      "text/html": [
       "<div>\n",
       "<style scoped>\n",
       "    .dataframe tbody tr th:only-of-type {\n",
       "        vertical-align: middle;\n",
       "    }\n",
       "\n",
       "    .dataframe tbody tr th {\n",
       "        vertical-align: top;\n",
       "    }\n",
       "\n",
       "    .dataframe thead th {\n",
       "        text-align: right;\n",
       "    }\n",
       "</style>\n",
       "<table border=\"1\" class=\"dataframe\">\n",
       "  <thead>\n",
       "    <tr style=\"text-align: right;\">\n",
       "      <th></th>\n",
       "      <th>a_count</th>\n",
       "      <th>ab_count</th>\n",
       "      <th>b_count</th>\n",
       "      <th>bc_count</th>\n",
       "      <th>c_count</th>\n",
       "      <th>d_count</th>\n",
       "      <th>f_count</th>\n",
       "      <th>start_time</th>\n",
       "      <th>section_type</th>\n",
       "      <th>course_offering_uuid</th>\n",
       "      <th>section_number</th>\n",
       "      <th>name</th>\n",
       "      <th>total_count</th>\n",
       "    </tr>\n",
       "  </thead>\n",
       "  <tbody>\n",
       "    <tr>\n",
       "      <th>0</th>\n",
       "      <td>0</td>\n",
       "      <td>1</td>\n",
       "      <td>3</td>\n",
       "      <td>2</td>\n",
       "      <td>6</td>\n",
       "      <td>6</td>\n",
       "      <td>5</td>\n",
       "      <td>595</td>\n",
       "      <td>LEC</td>\n",
       "      <td>cd055dc8-5f49-3c89-92ac-0929d6a81084</td>\n",
       "      <td>2</td>\n",
       "      <td>Mathematics</td>\n",
       "      <td>23</td>\n",
       "    </tr>\n",
       "    <tr>\n",
       "      <th>1</th>\n",
       "      <td>2</td>\n",
       "      <td>1</td>\n",
       "      <td>1</td>\n",
       "      <td>2</td>\n",
       "      <td>2</td>\n",
       "      <td>2</td>\n",
       "      <td>1</td>\n",
       "      <td>660</td>\n",
       "      <td>LEC</td>\n",
       "      <td>7f8ded97-695f-326e-97f1-a62293258178</td>\n",
       "      <td>1</td>\n",
       "      <td>Mathematics</td>\n",
       "      <td>11</td>\n",
       "    </tr>\n",
       "    <tr>\n",
       "      <th>2</th>\n",
       "      <td>2</td>\n",
       "      <td>1</td>\n",
       "      <td>4</td>\n",
       "      <td>1</td>\n",
       "      <td>3</td>\n",
       "      <td>1</td>\n",
       "      <td>0</td>\n",
       "      <td>800</td>\n",
       "      <td>LEC</td>\n",
       "      <td>7f8ded97-695f-326e-97f1-a62293258178</td>\n",
       "      <td>2</td>\n",
       "      <td>Mathematics</td>\n",
       "      <td>12</td>\n",
       "    </tr>\n",
       "    <tr>\n",
       "      <th>3</th>\n",
       "      <td>2</td>\n",
       "      <td>2</td>\n",
       "      <td>8</td>\n",
       "      <td>2</td>\n",
       "      <td>2</td>\n",
       "      <td>0</td>\n",
       "      <td>1</td>\n",
       "      <td>595</td>\n",
       "      <td>LEC</td>\n",
       "      <td>c9a679c5-8852-3cf7-94b2-917f5e749f58</td>\n",
       "      <td>1</td>\n",
       "      <td>Mathematics</td>\n",
       "      <td>17</td>\n",
       "    </tr>\n",
       "    <tr>\n",
       "      <th>4</th>\n",
       "      <td>3</td>\n",
       "      <td>1</td>\n",
       "      <td>0</td>\n",
       "      <td>4</td>\n",
       "      <td>5</td>\n",
       "      <td>0</td>\n",
       "      <td>2</td>\n",
       "      <td>800</td>\n",
       "      <td>LEC</td>\n",
       "      <td>c9a679c5-8852-3cf7-94b2-917f5e749f58</td>\n",
       "      <td>2</td>\n",
       "      <td>Mathematics</td>\n",
       "      <td>15</td>\n",
       "    </tr>\n",
       "  </tbody>\n",
       "</table>\n",
       "</div>"
      ],
      "text/plain": [
       "   a_count  ab_count  b_count  bc_count  c_count  d_count  f_count  \\\n",
       "0        0         1        3         2        6        6        5   \n",
       "1        2         1        1         2        2        2        1   \n",
       "2        2         1        4         1        3        1        0   \n",
       "3        2         2        8         2        2        0        1   \n",
       "4        3         1        0         4        5        0        2   \n",
       "\n",
       "   start_time section_type                  course_offering_uuid  \\\n",
       "0         595          LEC  cd055dc8-5f49-3c89-92ac-0929d6a81084   \n",
       "1         660          LEC  7f8ded97-695f-326e-97f1-a62293258178   \n",
       "2         800          LEC  7f8ded97-695f-326e-97f1-a62293258178   \n",
       "3         595          LEC  c9a679c5-8852-3cf7-94b2-917f5e749f58   \n",
       "4         800          LEC  c9a679c5-8852-3cf7-94b2-917f5e749f58   \n",
       "\n",
       "   section_number         name  total_count  \n",
       "0               2  Mathematics           23  \n",
       "1               1  Mathematics           11  \n",
       "2               2  Mathematics           12  \n",
       "3               1  Mathematics           17  \n",
       "4               2  Mathematics           15  "
      ]
     },
     "execution_count": 4,
     "metadata": {},
     "output_type": "execute_result"
    }
   ],
   "source": [
    "cur.execute(group_and_as)\n",
    "df = pd.DataFrame(cur.fetchall())\n",
    "df.columns = [i[0] for i in cur.description]\n",
    "df['total_count'] = (df['a_count'] + df['ab_count'] + df['b_count'] + df['bc_count'] \n",
    "                     + df['c_count'] + df['d_count'] + df['f_count'])\n",
    "df.head()"
   ]
  },
  {
   "cell_type": "code",
   "execution_count": 5,
   "metadata": {},
   "outputs": [
    {
     "data": {
      "text/html": [
       "<div>\n",
       "<style scoped>\n",
       "    .dataframe tbody tr th:only-of-type {\n",
       "        vertical-align: middle;\n",
       "    }\n",
       "\n",
       "    .dataframe tbody tr th {\n",
       "        vertical-align: top;\n",
       "    }\n",
       "\n",
       "    .dataframe thead th {\n",
       "        text-align: right;\n",
       "    }\n",
       "</style>\n",
       "<table border=\"1\" class=\"dataframe\">\n",
       "  <thead>\n",
       "    <tr style=\"text-align: right;\">\n",
       "      <th></th>\n",
       "      <th>a_count</th>\n",
       "      <th>ab_count</th>\n",
       "      <th>b_count</th>\n",
       "      <th>bc_count</th>\n",
       "      <th>c_count</th>\n",
       "      <th>d_count</th>\n",
       "      <th>f_count</th>\n",
       "      <th>start_time</th>\n",
       "      <th>section_type</th>\n",
       "      <th>course_offering_uuid</th>\n",
       "      <th>section_number</th>\n",
       "      <th>name</th>\n",
       "      <th>total_count</th>\n",
       "    </tr>\n",
       "  </thead>\n",
       "  <tbody>\n",
       "    <tr>\n",
       "      <th>2880</th>\n",
       "      <td>0</td>\n",
       "      <td>0</td>\n",
       "      <td>0</td>\n",
       "      <td>0</td>\n",
       "      <td>0</td>\n",
       "      <td>0</td>\n",
       "      <td>0</td>\n",
       "      <td>-1</td>\n",
       "      <td>IND</td>\n",
       "      <td>1851b810-dac9-374e-81de-18ec02323f7a</td>\n",
       "      <td>18</td>\n",
       "      <td>Mathematics</td>\n",
       "      <td>0</td>\n",
       "    </tr>\n",
       "    <tr>\n",
       "      <th>2836</th>\n",
       "      <td>0</td>\n",
       "      <td>0</td>\n",
       "      <td>0</td>\n",
       "      <td>0</td>\n",
       "      <td>0</td>\n",
       "      <td>0</td>\n",
       "      <td>0</td>\n",
       "      <td>-1</td>\n",
       "      <td>IND</td>\n",
       "      <td>43729f49-eb48-37cf-b37a-a001554c9263</td>\n",
       "      <td>38</td>\n",
       "      <td>Mathematics</td>\n",
       "      <td>0</td>\n",
       "    </tr>\n",
       "    <tr>\n",
       "      <th>2835</th>\n",
       "      <td>0</td>\n",
       "      <td>0</td>\n",
       "      <td>0</td>\n",
       "      <td>0</td>\n",
       "      <td>0</td>\n",
       "      <td>0</td>\n",
       "      <td>0</td>\n",
       "      <td>-1</td>\n",
       "      <td>IND</td>\n",
       "      <td>43729f49-eb48-37cf-b37a-a001554c9263</td>\n",
       "      <td>67</td>\n",
       "      <td>Mathematics</td>\n",
       "      <td>0</td>\n",
       "    </tr>\n",
       "    <tr>\n",
       "      <th>2834</th>\n",
       "      <td>0</td>\n",
       "      <td>0</td>\n",
       "      <td>0</td>\n",
       "      <td>0</td>\n",
       "      <td>0</td>\n",
       "      <td>0</td>\n",
       "      <td>0</td>\n",
       "      <td>-1</td>\n",
       "      <td>IND</td>\n",
       "      <td>1851b810-dac9-374e-81de-18ec02323f7a</td>\n",
       "      <td>106</td>\n",
       "      <td>Mathematics</td>\n",
       "      <td>0</td>\n",
       "    </tr>\n",
       "    <tr>\n",
       "      <th>2833</th>\n",
       "      <td>0</td>\n",
       "      <td>0</td>\n",
       "      <td>0</td>\n",
       "      <td>0</td>\n",
       "      <td>0</td>\n",
       "      <td>0</td>\n",
       "      <td>0</td>\n",
       "      <td>-1</td>\n",
       "      <td>IND</td>\n",
       "      <td>7e7dd109-ed5c-32b9-9b96-60ab1860d4fa</td>\n",
       "      <td>159</td>\n",
       "      <td>Mathematics</td>\n",
       "      <td>0</td>\n",
       "    </tr>\n",
       "  </tbody>\n",
       "</table>\n",
       "</div>"
      ],
      "text/plain": [
       "      a_count  ab_count  b_count  bc_count  c_count  d_count  f_count  \\\n",
       "2880        0         0        0         0        0        0        0   \n",
       "2836        0         0        0         0        0        0        0   \n",
       "2835        0         0        0         0        0        0        0   \n",
       "2834        0         0        0         0        0        0        0   \n",
       "2833        0         0        0         0        0        0        0   \n",
       "\n",
       "      start_time section_type                  course_offering_uuid  \\\n",
       "2880          -1          IND  1851b810-dac9-374e-81de-18ec02323f7a   \n",
       "2836          -1          IND  43729f49-eb48-37cf-b37a-a001554c9263   \n",
       "2835          -1          IND  43729f49-eb48-37cf-b37a-a001554c9263   \n",
       "2834          -1          IND  1851b810-dac9-374e-81de-18ec02323f7a   \n",
       "2833          -1          IND  7e7dd109-ed5c-32b9-9b96-60ab1860d4fa   \n",
       "\n",
       "      section_number         name  total_count  \n",
       "2880              18  Mathematics            0  \n",
       "2836              38  Mathematics            0  \n",
       "2835              67  Mathematics            0  \n",
       "2834             106  Mathematics            0  \n",
       "2833             159  Mathematics            0  "
      ]
     },
     "execution_count": 5,
     "metadata": {},
     "output_type": "execute_result"
    }
   ],
   "source": [
    "df.sort_values(by='start_time').head()"
   ]
  },
  {
   "cell_type": "code",
   "execution_count": 6,
   "metadata": {},
   "outputs": [
    {
     "data": {
      "text/plain": [
       "LEC    2843\n",
       "SEM     112\n",
       "DIS      46\n",
       "Name: section_type, dtype: int64"
      ]
     },
     "execution_count": 6,
     "metadata": {},
     "output_type": "execute_result"
    }
   ],
   "source": [
    "df.loc[df['start_time'] != -1, 'section_type'].value_counts()"
   ]
  },
  {
   "cell_type": "markdown",
   "metadata": {},
   "source": [
    "All the independent studies are -1. As all these values are no use to our test (because we are interested in start time) we will drop all start_times of -1. We will also cut of irregular times (classes that start before 6AM) because these are potentially errors during input. We can also drop section types that are irregular or tied to other classes, like Labs.  "
   ]
  },
  {
   "cell_type": "code",
   "execution_count": 7,
   "metadata": {},
   "outputs": [
    {
     "name": "stdout",
     "output_type": "stream",
     "text": [
      "<class 'pandas.core.frame.DataFrame'>\n",
      "Int64Index: 2955 entries, 0 to 3534\n",
      "Data columns (total 13 columns):\n",
      "a_count                 2955 non-null int64\n",
      "ab_count                2955 non-null int64\n",
      "b_count                 2955 non-null int64\n",
      "bc_count                2955 non-null int64\n",
      "c_count                 2955 non-null int64\n",
      "d_count                 2955 non-null int64\n",
      "f_count                 2955 non-null int64\n",
      "start_time              2955 non-null int64\n",
      "section_type            2955 non-null object\n",
      "course_offering_uuid    2955 non-null object\n",
      "section_number          2955 non-null int64\n",
      "name                    2955 non-null object\n",
      "total_count             2955 non-null int64\n",
      "dtypes: int64(10), object(3)\n",
      "memory usage: 323.2+ KB\n"
     ]
    }
   ],
   "source": [
    "df = df[df['start_time'] >= 360]\n",
    "df = df[df['section_type'] != 'IND']\n",
    "df = df[df['section_type'] != 'FLD']\n",
    "df = df[df['section_type'] != 'LAB']\n",
    "df = df[df['section_type'] != 'DIS']\n",
    "df.info()"
   ]
  },
  {
   "cell_type": "code",
   "execution_count": 8,
   "metadata": {},
   "outputs": [
    {
     "data": {
      "text/html": [
       "<div>\n",
       "<style scoped>\n",
       "    .dataframe tbody tr th:only-of-type {\n",
       "        vertical-align: middle;\n",
       "    }\n",
       "\n",
       "    .dataframe tbody tr th {\n",
       "        vertical-align: top;\n",
       "    }\n",
       "\n",
       "    .dataframe thead th {\n",
       "        text-align: right;\n",
       "    }\n",
       "</style>\n",
       "<table border=\"1\" class=\"dataframe\">\n",
       "  <thead>\n",
       "    <tr style=\"text-align: right;\">\n",
       "      <th></th>\n",
       "      <th>a_count</th>\n",
       "      <th>ab_count</th>\n",
       "      <th>b_count</th>\n",
       "      <th>bc_count</th>\n",
       "      <th>c_count</th>\n",
       "      <th>d_count</th>\n",
       "      <th>f_count</th>\n",
       "      <th>start_time</th>\n",
       "      <th>section_type</th>\n",
       "      <th>course_offering_uuid</th>\n",
       "      <th>section_number</th>\n",
       "      <th>name</th>\n",
       "      <th>total_count</th>\n",
       "    </tr>\n",
       "  </thead>\n",
       "  <tbody>\n",
       "    <tr>\n",
       "      <th>2551</th>\n",
       "      <td>0</td>\n",
       "      <td>0</td>\n",
       "      <td>0</td>\n",
       "      <td>0</td>\n",
       "      <td>0</td>\n",
       "      <td>0</td>\n",
       "      <td>0</td>\n",
       "      <td>800</td>\n",
       "      <td>SEM</td>\n",
       "      <td>298df9e6-5033-355d-8e7c-e5d807de66fa</td>\n",
       "      <td>2</td>\n",
       "      <td>Mathematics</td>\n",
       "      <td>0</td>\n",
       "    </tr>\n",
       "    <tr>\n",
       "      <th>2427</th>\n",
       "      <td>0</td>\n",
       "      <td>0</td>\n",
       "      <td>0</td>\n",
       "      <td>0</td>\n",
       "      <td>0</td>\n",
       "      <td>0</td>\n",
       "      <td>0</td>\n",
       "      <td>660</td>\n",
       "      <td>LEC</td>\n",
       "      <td>632d128b-560c-38d7-84a4-fce42d90e735</td>\n",
       "      <td>1</td>\n",
       "      <td>Mathematics</td>\n",
       "      <td>0</td>\n",
       "    </tr>\n",
       "    <tr>\n",
       "      <th>528</th>\n",
       "      <td>0</td>\n",
       "      <td>0</td>\n",
       "      <td>0</td>\n",
       "      <td>0</td>\n",
       "      <td>0</td>\n",
       "      <td>0</td>\n",
       "      <td>0</td>\n",
       "      <td>530</td>\n",
       "      <td>LEC</td>\n",
       "      <td>2f65dd14-6217-38f6-8311-4fa0671ce06e</td>\n",
       "      <td>15</td>\n",
       "      <td>Mathematics</td>\n",
       "      <td>0</td>\n",
       "    </tr>\n",
       "    <tr>\n",
       "      <th>2430</th>\n",
       "      <td>0</td>\n",
       "      <td>0</td>\n",
       "      <td>0</td>\n",
       "      <td>0</td>\n",
       "      <td>0</td>\n",
       "      <td>0</td>\n",
       "      <td>0</td>\n",
       "      <td>595</td>\n",
       "      <td>LEC</td>\n",
       "      <td>da7b1ca2-6b51-3a83-8370-bdb6c0014423</td>\n",
       "      <td>1</td>\n",
       "      <td>Mathematics</td>\n",
       "      <td>0</td>\n",
       "    </tr>\n",
       "    <tr>\n",
       "      <th>2431</th>\n",
       "      <td>0</td>\n",
       "      <td>0</td>\n",
       "      <td>0</td>\n",
       "      <td>0</td>\n",
       "      <td>0</td>\n",
       "      <td>0</td>\n",
       "      <td>0</td>\n",
       "      <td>865</td>\n",
       "      <td>LEC</td>\n",
       "      <td>8e962742-6181-36fa-a0ca-160da959200d</td>\n",
       "      <td>1</td>\n",
       "      <td>Mathematics</td>\n",
       "      <td>0</td>\n",
       "    </tr>\n",
       "  </tbody>\n",
       "</table>\n",
       "</div>"
      ],
      "text/plain": [
       "      a_count  ab_count  b_count  bc_count  c_count  d_count  f_count  \\\n",
       "2551        0         0        0         0        0        0        0   \n",
       "2427        0         0        0         0        0        0        0   \n",
       "528         0         0        0         0        0        0        0   \n",
       "2430        0         0        0         0        0        0        0   \n",
       "2431        0         0        0         0        0        0        0   \n",
       "\n",
       "      start_time section_type                  course_offering_uuid  \\\n",
       "2551         800          SEM  298df9e6-5033-355d-8e7c-e5d807de66fa   \n",
       "2427         660          LEC  632d128b-560c-38d7-84a4-fce42d90e735   \n",
       "528          530          LEC  2f65dd14-6217-38f6-8311-4fa0671ce06e   \n",
       "2430         595          LEC  da7b1ca2-6b51-3a83-8370-bdb6c0014423   \n",
       "2431         865          LEC  8e962742-6181-36fa-a0ca-160da959200d   \n",
       "\n",
       "      section_number         name  total_count  \n",
       "2551               2  Mathematics            0  \n",
       "2427               1  Mathematics            0  \n",
       "528               15  Mathematics            0  \n",
       "2430               1  Mathematics            0  \n",
       "2431               1  Mathematics            0  "
      ]
     },
     "execution_count": 8,
     "metadata": {},
     "output_type": "execute_result"
    }
   ],
   "source": [
    "df.sort_values(by='total_count').head()"
   ]
  },
  {
   "cell_type": "markdown",
   "metadata": {},
   "source": [
    "There are still a number of classes that have no students. We want to drop these as it is not reflective of our study."
   ]
  },
  {
   "cell_type": "code",
   "execution_count": 9,
   "metadata": {},
   "outputs": [],
   "source": [
    "df = df[df['total_count'] != 0]"
   ]
  },
  {
   "cell_type": "code",
   "execution_count": 10,
   "metadata": {},
   "outputs": [
    {
     "data": {
      "text/plain": [
       "22    125\n",
       "19    117\n",
       "20    115\n",
       "21    109\n",
       "17     92\n",
       "Name: total_count, dtype: int64"
      ]
     },
     "execution_count": 10,
     "metadata": {},
     "output_type": "execute_result"
    }
   ],
   "source": [
    "df['total_count'].value_counts().head()"
   ]
  },
  {
   "cell_type": "code",
   "execution_count": 11,
   "metadata": {},
   "outputs": [],
   "source": [
    "df2 = df.copy()"
   ]
  },
  {
   "cell_type": "code",
   "execution_count": 12,
   "metadata": {},
   "outputs": [],
   "source": [
    "df2['ratio_of_as'] = df['a_count'] / df['total_count']"
   ]
  },
  {
   "cell_type": "code",
   "execution_count": 13,
   "metadata": {},
   "outputs": [
    {
     "name": "stdout",
     "output_type": "stream",
     "text": [
      "<class 'pandas.core.frame.DataFrame'>\n",
      "Int64Index: 2823 entries, 0 to 3534\n",
      "Data columns (total 14 columns):\n",
      "a_count                 2823 non-null int64\n",
      "ab_count                2823 non-null int64\n",
      "b_count                 2823 non-null int64\n",
      "bc_count                2823 non-null int64\n",
      "c_count                 2823 non-null int64\n",
      "d_count                 2823 non-null int64\n",
      "f_count                 2823 non-null int64\n",
      "start_time              2823 non-null int64\n",
      "section_type            2823 non-null object\n",
      "course_offering_uuid    2823 non-null object\n",
      "section_number          2823 non-null int64\n",
      "name                    2823 non-null object\n",
      "total_count             2823 non-null int64\n",
      "ratio_of_as             2823 non-null float64\n",
      "dtypes: float64(1), int64(10), object(3)\n",
      "memory usage: 330.8+ KB\n"
     ]
    }
   ],
   "source": [
    "df2.info()"
   ]
  },
  {
   "cell_type": "code",
   "execution_count": 14,
   "metadata": {},
   "outputs": [
    {
     "data": {
      "image/png": "[encoded data removed]",
      "text/plain": [
       "<Figure size 432x432 with 3 Axes>"
      ]
     },
     "metadata": {
      "needs_background": "light"
     },
     "output_type": "display_data"
    }
   ],
   "source": [
    "sns.jointplot('start_time', 'ratio_of_as',df2)\n",
    "plt.title('Ratio of As by Class Start Time')\n",
    "plt.show();"
   ]
  },
  {
   "cell_type": "code",
   "execution_count": 15,
   "metadata": {},
   "outputs": [
    {
     "name": "stdout",
     "output_type": "stream",
     "text": [
      "<class 'pandas.core.frame.DataFrame'>\n",
      "Int64Index: 2661 entries, 0 to 3534\n",
      "Data columns (total 14 columns):\n",
      "a_count                 2661 non-null int64\n",
      "ab_count                2661 non-null int64\n",
      "b_count                 2661 non-null int64\n",
      "bc_count                2661 non-null int64\n",
      "c_count                 2661 non-null int64\n",
      "d_count                 2661 non-null int64\n",
      "f_count                 2661 non-null int64\n",
      "start_time              2661 non-null int64\n",
      "section_type            2661 non-null object\n",
      "course_offering_uuid    2661 non-null object\n",
      "section_number          2661 non-null int64\n",
      "name                    2661 non-null object\n",
      "total_count             2661 non-null int64\n",
      "ratio_of_as             2661 non-null float64\n",
      "dtypes: float64(1), int64(10), object(3)\n",
      "memory usage: 311.8+ KB\n"
     ]
    }
   ],
   "source": [
    "df2.drop_duplicates(inplace=True)\n",
    "df2.info()"
   ]
  },
  {
   "cell_type": "code",
   "execution_count": 16,
   "metadata": {},
   "outputs": [
    {
     "data": {
      "image/png": "[encoded data removed]",
      "text/plain": [
       "<Figure size 432x432 with 3 Axes>"
      ]
     },
     "metadata": {
      "needs_background": "light"
     },
     "output_type": "display_data"
    }
   ],
   "source": [
    "sns.jointplot('start_time', 'ratio_of_as',df2)\n",
    "plt.title('Ratio of As by Class Start Time')\n",
    "plt.show();"
   ]
  },
  {
   "cell_type": "code",
   "execution_count": 17,
   "metadata": {},
   "outputs": [
    {
     "data": {
      "text/plain": [
       "LEC    2629\n",
       "SEM      32\n",
       "Name: section_type, dtype: int64"
      ]
     },
     "execution_count": 17,
     "metadata": {},
     "output_type": "execute_result"
    }
   ],
   "source": [
    "df2['section_type'].value_counts()"
   ]
  },
  {
   "cell_type": "code",
   "execution_count": 18,
   "metadata": {},
   "outputs": [],
   "source": [
    "morning_df = df2.loc[df2['start_time'] < 720]\n",
    "afternoon_df = df2.loc[df2['start_time'] >= 720]"
   ]
  },
  {
   "cell_type": "code",
   "execution_count": 19,
   "metadata": {},
   "outputs": [
    {
     "name": "stdout",
     "output_type": "stream",
     "text": [
      "<class 'pandas.core.frame.DataFrame'>\n",
      "Int64Index: 1467 entries, 0 to 3531\n",
      "Data columns (total 14 columns):\n",
      "a_count                 1467 non-null int64\n",
      "ab_count                1467 non-null int64\n",
      "b_count                 1467 non-null int64\n",
      "bc_count                1467 non-null int64\n",
      "c_count                 1467 non-null int64\n",
      "d_count                 1467 non-null int64\n",
      "f_count                 1467 non-null int64\n",
      "start_time              1467 non-null int64\n",
      "section_type            1467 non-null object\n",
      "course_offering_uuid    1467 non-null object\n",
      "section_number          1467 non-null int64\n",
      "name                    1467 non-null object\n",
      "total_count             1467 non-null int64\n",
      "ratio_of_as             1467 non-null float64\n",
      "dtypes: float64(1), int64(10), object(3)\n",
      "memory usage: 171.9+ KB\n"
     ]
    }
   ],
   "source": [
    "morning_df.info()"
   ]
  },
  {
   "cell_type": "code",
   "execution_count": 20,
   "metadata": {},
   "outputs": [
    {
     "name": "stdout",
     "output_type": "stream",
     "text": [
      "<class 'pandas.core.frame.DataFrame'>\n",
      "Int64Index: 1194 entries, 2 to 3534\n",
      "Data columns (total 14 columns):\n",
      "a_count                 1194 non-null int64\n",
      "ab_count                1194 non-null int64\n",
      "b_count                 1194 non-null int64\n",
      "bc_count                1194 non-null int64\n",
      "c_count                 1194 non-null int64\n",
      "d_count                 1194 non-null int64\n",
      "f_count                 1194 non-null int64\n",
      "start_time              1194 non-null int64\n",
      "section_type            1194 non-null object\n",
      "course_offering_uuid    1194 non-null object\n",
      "section_number          1194 non-null int64\n",
      "name                    1194 non-null object\n",
      "total_count             1194 non-null int64\n",
      "ratio_of_as             1194 non-null float64\n",
      "dtypes: float64(1), int64(10), object(3)\n",
      "memory usage: 139.9+ KB\n"
     ]
    }
   ],
   "source": [
    "afternoon_df.info()"
   ]
  },
  {
   "cell_type": "code",
   "execution_count": 21,
   "metadata": {},
   "outputs": [
    {
     "data": {
      "image/png": "[encoded data removed]",
      "text/plain": [
       "<Figure size 432x432 with 3 Axes>"
      ]
     },
     "metadata": {
      "needs_background": "light"
     },
     "output_type": "display_data"
    }
   ],
   "source": [
    "sns.jointplot('start_time', 'ratio_of_as',morning_df,kind='hex')\n",
    "plt.title('Ratio of As for Classes before Noon')\n",
    "plt.show();"
   ]
  },
  {
   "cell_type": "code",
   "execution_count": 22,
   "metadata": {},
   "outputs": [
    {
     "data": {
      "image/png": "[encoded data removed]",
      "text/plain": [
       "<Figure size 432x432 with 3 Axes>"
      ]
     },
     "metadata": {
      "needs_background": "light"
     },
     "output_type": "display_data"
    }
   ],
   "source": [
    "sns.jointplot('start_time', 'ratio_of_as',afternoon_df,kind='hex')\n",
    "plt.title('Ratio of As for classes after Noon')\n",
    "plt.show();"
   ]
  },
  {
   "cell_type": "markdown",
   "metadata": {},
   "source": [
    "# Determine Sample Size"
   ]
  },
  {
   "cell_type": "code",
   "execution_count": 23,
   "metadata": {},
   "outputs": [],
   "source": [
    "moe = 0.1\n",
    "z = 1.96 # z value for alpha 0.05\n",
    "morn_var = np.var(morning_df['ratio_of_as'])\n",
    "morn_n = len(morning_df['ratio_of_as'])\n",
    "aft_var = np.var(afternoon_df['ratio_of_as'])\n",
    "aft_n = len(afternoon_df['ratio_of_as'])\n",
    "\n",
    "num = (morn_n - 1) * morn_var + (aft_n - 1) * aft_var\n",
    "den = morn_n + aft_n - 2\n",
    "pooled_std = np.sqrt(num/den)"
   ]
  },
  {
   "cell_type": "code",
   "execution_count": 24,
   "metadata": {},
   "outputs": [
    {
     "data": {
      "text/plain": [
       "55.0977977250434"
      ]
     },
     "execution_count": 24,
     "metadata": {},
     "output_type": "execute_result"
    }
   ],
   "source": [
    "n = 2 * (z * pooled_std / moe)**2\n",
    "n"
   ]
  },
  {
   "cell_type": "markdown",
   "metadata": {},
   "source": [
    "We will use samples from morning and afternoon of size 68."
   ]
  },
  {
   "cell_type": "code",
   "execution_count": 25,
   "metadata": {},
   "outputs": [],
   "source": [
    "np.random.seed(20)\n",
    "\n",
    "morning = morning_df['ratio_of_as']\n",
    "afternoon = afternoon_df['ratio_of_as']\n",
    "\n",
    "morning_sample = np.random.choice(morning, size=57)\n",
    "afternoon_sample = np.random.choice(afternoon, size=57)"
   ]
  },
  {
   "cell_type": "code",
   "execution_count": 26,
   "metadata": {},
   "outputs": [
    {
     "data": {
      "text/plain": [
       "Ttest_indResult(statistic=-0.4532305528633009, pvalue=0.6512595979228706)"
      ]
     },
     "execution_count": 26,
     "metadata": {},
     "output_type": "execute_result"
    }
   ],
   "source": [
    "stats.ttest_ind(morning_sample, afternoon_sample)"
   ]
  },
  {
   "cell_type": "markdown",
   "metadata": {},
   "source": [
    "Our p-value is about 0.407 which is greater than our alpha of 0.05. This means that we cannot reject the null hypothesis. Even when we look only at math classes we still cannot say that there is a statistical difference in the ratio of A's of a class depending on if the class is before or after noon. \n",
    "\n",
    "If we want to improve our schedules to increase the percentage of A's we will need to look at other factors."
   ]
  },
  {
   "cell_type": "code",
   "execution_count": null,
   "metadata": {},
   "outputs": [],
   "source": []
  }
 ],
 "metadata": {
  "kernelspec": {
   "display_name": "learn-env",
   "language": "python",
   "name": "learn-env"
  },
  "language_info": {
   "codemirror_mode": {
    "name": "ipython",
    "version": 3
   },
   "file_extension": ".py",
   "mimetype": "text/x-python",
   "name": "python",
   "nbconvert_exporter": "python",
   "pygments_lexer": "ipython3",
   "version": "3.6.6"
  }
 },
 "nbformat": 4,
 "nbformat_minor": 2
}
