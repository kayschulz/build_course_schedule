{
 "cells": [
  {
   "cell_type": "markdown",
   "metadata": {},
   "source": [
    "# Hypothesis Test 1 - AM and PM\n",
    "\n",
    "## Question\n",
    "\n",
    "Is there a statistically significant difference in the percentage of A's given if a class starts before noon or after noon?\n",
    "\n",
    "## Hypotheses\n",
    "\n",
    "Null Hypothesis: There is no significant difference in the mean percentage of A's in the morning classes and afternoon classes.\n",
    "\n",
    "Alternate Hypothesis: There is a significant difference in the mean percentage of A's in the morning and afternoon classes.\n",
    "\n",
    "## Methodology\n",
    "We select an alpha value of 0.05.\n",
    "\n",
    "We will perform a two-tail, two-sample t-test on the data. If we find significance. We will perform a one-tail, two-sample t-test to look at directionality.\n",
    "\n",
    "Class start and end time is listed in minutes from midnight."
   ]
  },
  {
   "cell_type": "markdown",
   "metadata": {},
   "source": [
    "### Import Necessary Libraries"
   ]
  },
  {
   "cell_type": "code",
   "execution_count": 1,
   "metadata": {},
   "outputs": [],
   "source": [
    "import psycopg2\n",
    "import pandas as pd\n",
    "import matplotlib.pyplot as plt\n",
    "%matplotlib inline\n",
    "import seaborn as sns\n",
    "plt.style.use('seaborn')\n",
    "import numpy as np\n",
    "import scipy.stats as stats\n",
    "from simulations import get_sample_size, clean_df\n",
    "\n",
    "np.random.seed(2019)"
   ]
  },
  {
   "cell_type": "markdown",
   "metadata": {},
   "source": [
    "# Data Preparation\n",
    "\n",
    "## Connect to UW- Madison PostgreSQL database"
   ]
  },
  {
   "cell_type": "code",
   "execution_count": 2,
   "metadata": {},
   "outputs": [],
   "source": [
    "conn = psycopg2.connect(\"host=localhost,dbname=postgres,user=postgres\")\n",
    "\n",
    "cur = conn.cursor()"
   ]
  },
  {
   "cell_type": "markdown",
   "metadata": {},
   "source": [
    "We are interested in the percentage of A's given in a specific course and section. While there are other grades such as \"credit\" and \"incomplete\", these grades are not given a GPA value and we will therefore ignore them and only use A-F grades. We also want to collect the start times of the classes. Finally, we want the section type as we want to make sure that we measure Lecture and Seminar classes as opposed to Independent/Field Studies and Labs/Discussions (which often contribute to a lecture class' grade)."
   ]
  },
  {
   "cell_type": "code",
   "execution_count": 3,
   "metadata": {},
   "outputs": [],
   "source": [
    "group_and_as = \"\"\"\n",
    "SELECT \n",
    "  grade.a_count\n",
    ", grade.ab_count\n",
    ", grade.b_count\n",
    ", grade.bc_count\n",
    ", grade.c_count\n",
    ", grade.d_count\n",
    ", grade.f_count\n",
    ", sched.start_time\n",
    ", sect.section_type\n",
    ", grade.course_offering_uuid\n",
    ", grade.section_number\n",
    "FROM \n",
    "  sections sect\n",
    "INNER JOIN \n",
    "  schedules sched \n",
    "ON \n",
    "  sched.uuid = sect.schedule_uuid\n",
    "INNER JOIN \n",
    "  grade_distributions grade \n",
    "ON \n",
    "  sect.number = grade.section_number \n",
    "AND \n",
    "  sect.course_offering_uuid = grade.course_offering_uuid;\n",
    "\"\"\""
   ]
  },
  {
   "cell_type": "code",
   "execution_count": 4,
   "metadata": {},
   "outputs": [
    {
     "name": "stdout",
     "output_type": "stream",
     "text": [
      "<class 'pandas.core.frame.DataFrame'>\n",
      "RangeIndex: 217399 entries, 0 to 217398\n",
      "Data columns (total 11 columns):\n",
      "a_count                 217399 non-null int64\n",
      "ab_count                217399 non-null int64\n",
      "b_count                 217399 non-null int64\n",
      "bc_count                217399 non-null int64\n",
      "c_count                 217399 non-null int64\n",
      "d_count                 217399 non-null int64\n",
      "f_count                 217399 non-null int64\n",
      "start_time              217399 non-null int64\n",
      "section_type            217399 non-null object\n",
      "course_offering_uuid    217399 non-null object\n",
      "section_number          217399 non-null int64\n",
      "dtypes: int64(9), object(2)\n",
      "memory usage: 18.2+ MB\n"
     ]
    }
   ],
   "source": [
    "cur.execute(group_and_as)\n",
    "df = pd.DataFrame(cur.fetchall())\n",
    "df.columns = [i[0] for i in cur.description]\n",
    "df.info()"
   ]
  },
  {
   "cell_type": "markdown",
   "metadata": {},
   "source": [
    "Our initial table has 217,339 classes."
   ]
  },
  {
   "cell_type": "code",
   "execution_count": 5,
   "metadata": {},
   "outputs": [
    {
     "data": {
      "text/html": [
       "<div>\n",
       "<style scoped>\n",
       "    .dataframe tbody tr th:only-of-type {\n",
       "        vertical-align: middle;\n",
       "    }\n",
       "\n",
       "    .dataframe tbody tr th {\n",
       "        vertical-align: top;\n",
       "    }\n",
       "\n",
       "    .dataframe thead th {\n",
       "        text-align: right;\n",
       "    }\n",
       "</style>\n",
       "<table border=\"1\" class=\"dataframe\">\n",
       "  <thead>\n",
       "    <tr style=\"text-align: right;\">\n",
       "      <th></th>\n",
       "      <th>a_count</th>\n",
       "      <th>ab_count</th>\n",
       "      <th>b_count</th>\n",
       "      <th>bc_count</th>\n",
       "      <th>c_count</th>\n",
       "      <th>d_count</th>\n",
       "      <th>f_count</th>\n",
       "      <th>start_time</th>\n",
       "      <th>section_type</th>\n",
       "      <th>course_offering_uuid</th>\n",
       "      <th>section_number</th>\n",
       "      <th>total_count</th>\n",
       "    </tr>\n",
       "  </thead>\n",
       "  <tbody>\n",
       "    <tr>\n",
       "      <th>46</th>\n",
       "      <td>3</td>\n",
       "      <td>1</td>\n",
       "      <td>0</td>\n",
       "      <td>4</td>\n",
       "      <td>5</td>\n",
       "      <td>0</td>\n",
       "      <td>2</td>\n",
       "      <td>800</td>\n",
       "      <td>LEC</td>\n",
       "      <td>c9a679c5-8852-3cf7-94b2-917f5e749f58</td>\n",
       "      <td>2</td>\n",
       "      <td>15</td>\n",
       "    </tr>\n",
       "    <tr>\n",
       "      <th>47</th>\n",
       "      <td>1</td>\n",
       "      <td>1</td>\n",
       "      <td>2</td>\n",
       "      <td>0</td>\n",
       "      <td>0</td>\n",
       "      <td>3</td>\n",
       "      <td>1</td>\n",
       "      <td>660</td>\n",
       "      <td>LEC</td>\n",
       "      <td>6453fc7b-887c-38f2-aa2d-8f7c7ab4dbba</td>\n",
       "      <td>1</td>\n",
       "      <td>8</td>\n",
       "    </tr>\n",
       "    <tr>\n",
       "      <th>48</th>\n",
       "      <td>0</td>\n",
       "      <td>5</td>\n",
       "      <td>4</td>\n",
       "      <td>1</td>\n",
       "      <td>0</td>\n",
       "      <td>0</td>\n",
       "      <td>0</td>\n",
       "      <td>660</td>\n",
       "      <td>LEC</td>\n",
       "      <td>fd7a3e03-a30b-3117-b431-e5f27d644f43</td>\n",
       "      <td>7</td>\n",
       "      <td>10</td>\n",
       "    </tr>\n",
       "    <tr>\n",
       "      <th>49</th>\n",
       "      <td>2</td>\n",
       "      <td>6</td>\n",
       "      <td>2</td>\n",
       "      <td>1</td>\n",
       "      <td>0</td>\n",
       "      <td>1</td>\n",
       "      <td>0</td>\n",
       "      <td>725</td>\n",
       "      <td>LEC</td>\n",
       "      <td>fd7a3e03-a30b-3117-b431-e5f27d644f43</td>\n",
       "      <td>13</td>\n",
       "      <td>12</td>\n",
       "    </tr>\n",
       "    <tr>\n",
       "      <th>50</th>\n",
       "      <td>4</td>\n",
       "      <td>3</td>\n",
       "      <td>2</td>\n",
       "      <td>1</td>\n",
       "      <td>1</td>\n",
       "      <td>0</td>\n",
       "      <td>1</td>\n",
       "      <td>595</td>\n",
       "      <td>LEC</td>\n",
       "      <td>fd7a3e03-a30b-3117-b431-e5f27d644f43</td>\n",
       "      <td>6</td>\n",
       "      <td>12</td>\n",
       "    </tr>\n",
       "  </tbody>\n",
       "</table>\n",
       "</div>"
      ],
      "text/plain": [
       "    a_count  ab_count  b_count  bc_count  c_count  d_count  f_count  \\\n",
       "46        3         1        0         4        5        0        2   \n",
       "47        1         1        2         0        0        3        1   \n",
       "48        0         5        4         1        0        0        0   \n",
       "49        2         6        2         1        0        1        0   \n",
       "50        4         3        2         1        1        0        1   \n",
       "\n",
       "    start_time section_type                  course_offering_uuid  \\\n",
       "46         800          LEC  c9a679c5-8852-3cf7-94b2-917f5e749f58   \n",
       "47         660          LEC  6453fc7b-887c-38f2-aa2d-8f7c7ab4dbba   \n",
       "48         660          LEC  fd7a3e03-a30b-3117-b431-e5f27d644f43   \n",
       "49         725          LEC  fd7a3e03-a30b-3117-b431-e5f27d644f43   \n",
       "50         595          LEC  fd7a3e03-a30b-3117-b431-e5f27d644f43   \n",
       "\n",
       "    section_number  total_count  \n",
       "46               2           15  \n",
       "47               1            8  \n",
       "48               7           10  \n",
       "49              13           12  \n",
       "50               6           12  "
      ]
     },
     "execution_count": 5,
     "metadata": {},
     "output_type": "execute_result"
    }
   ],
   "source": [
    "df = clean_df(df) #removes non-LEC/SEM, counts number of students and removes if 0\n",
    "df.head()"
   ]
  },
  {
   "cell_type": "code",
   "execution_count": 6,
   "metadata": {},
   "outputs": [
    {
     "name": "stdout",
     "output_type": "stream",
     "text": [
      "<class 'pandas.core.frame.DataFrame'>\n",
      "Int64Index: 88368 entries, 46 to 217385\n",
      "Data columns (total 12 columns):\n",
      "a_count                 88368 non-null int64\n",
      "ab_count                88368 non-null int64\n",
      "b_count                 88368 non-null int64\n",
      "bc_count                88368 non-null int64\n",
      "c_count                 88368 non-null int64\n",
      "d_count                 88368 non-null int64\n",
      "f_count                 88368 non-null int64\n",
      "start_time              88368 non-null int64\n",
      "section_type            88368 non-null object\n",
      "course_offering_uuid    88368 non-null object\n",
      "section_number          88368 non-null int64\n",
      "total_count             88368 non-null int64\n",
      "dtypes: int64(10), object(2)\n",
      "memory usage: 8.8+ MB\n"
     ]
    }
   ],
   "source": [
    "df.info()"
   ]
  },
  {
   "cell_type": "markdown",
   "metadata": {},
   "source": [
    "After removing non-lecture/seminar classes and classes with zero students, there are 88,368 individual courses and section combinations."
   ]
  },
  {
   "cell_type": "code",
   "execution_count": 7,
   "metadata": {},
   "outputs": [
    {
     "data": {
      "text/html": [
       "<div>\n",
       "<style scoped>\n",
       "    .dataframe tbody tr th:only-of-type {\n",
       "        vertical-align: middle;\n",
       "    }\n",
       "\n",
       "    .dataframe tbody tr th {\n",
       "        vertical-align: top;\n",
       "    }\n",
       "\n",
       "    .dataframe thead th {\n",
       "        text-align: right;\n",
       "    }\n",
       "</style>\n",
       "<table border=\"1\" class=\"dataframe\">\n",
       "  <thead>\n",
       "    <tr style=\"text-align: right;\">\n",
       "      <th></th>\n",
       "      <th>a_count</th>\n",
       "      <th>ab_count</th>\n",
       "      <th>b_count</th>\n",
       "      <th>bc_count</th>\n",
       "      <th>c_count</th>\n",
       "      <th>d_count</th>\n",
       "      <th>f_count</th>\n",
       "      <th>start_time</th>\n",
       "      <th>section_type</th>\n",
       "      <th>course_offering_uuid</th>\n",
       "      <th>section_number</th>\n",
       "      <th>total_count</th>\n",
       "    </tr>\n",
       "  </thead>\n",
       "  <tbody>\n",
       "    <tr>\n",
       "      <th>209926</th>\n",
       "      <td>28</td>\n",
       "      <td>9</td>\n",
       "      <td>4</td>\n",
       "      <td>1</td>\n",
       "      <td>0</td>\n",
       "      <td>0</td>\n",
       "      <td>0</td>\n",
       "      <td>-1</td>\n",
       "      <td>LEC</td>\n",
       "      <td>a35eb500-59a2-3286-8be1-18a3d4b517a8</td>\n",
       "      <td>1</td>\n",
       "      <td>42</td>\n",
       "    </tr>\n",
       "    <tr>\n",
       "      <th>24265</th>\n",
       "      <td>58</td>\n",
       "      <td>21</td>\n",
       "      <td>48</td>\n",
       "      <td>26</td>\n",
       "      <td>40</td>\n",
       "      <td>13</td>\n",
       "      <td>0</td>\n",
       "      <td>-1</td>\n",
       "      <td>LEC</td>\n",
       "      <td>3486d0eb-fa36-3f80-abe2-a536697d3d54</td>\n",
       "      <td>2</td>\n",
       "      <td>206</td>\n",
       "    </tr>\n",
       "    <tr>\n",
       "      <th>60405</th>\n",
       "      <td>11</td>\n",
       "      <td>4</td>\n",
       "      <td>0</td>\n",
       "      <td>1</td>\n",
       "      <td>0</td>\n",
       "      <td>0</td>\n",
       "      <td>0</td>\n",
       "      <td>-1</td>\n",
       "      <td>LEC</td>\n",
       "      <td>b1b5bbbc-323a-3cef-af88-6180982ab3ca</td>\n",
       "      <td>1</td>\n",
       "      <td>16</td>\n",
       "    </tr>\n",
       "    <tr>\n",
       "      <th>5939</th>\n",
       "      <td>12</td>\n",
       "      <td>4</td>\n",
       "      <td>0</td>\n",
       "      <td>0</td>\n",
       "      <td>2</td>\n",
       "      <td>0</td>\n",
       "      <td>0</td>\n",
       "      <td>-1</td>\n",
       "      <td>LEC</td>\n",
       "      <td>68d2d294-96b0-3083-8488-5b5363a046fa</td>\n",
       "      <td>2</td>\n",
       "      <td>18</td>\n",
       "    </tr>\n",
       "    <tr>\n",
       "      <th>24264</th>\n",
       "      <td>58</td>\n",
       "      <td>21</td>\n",
       "      <td>48</td>\n",
       "      <td>26</td>\n",
       "      <td>40</td>\n",
       "      <td>13</td>\n",
       "      <td>0</td>\n",
       "      <td>-1</td>\n",
       "      <td>LEC</td>\n",
       "      <td>3486d0eb-fa36-3f80-abe2-a536697d3d54</td>\n",
       "      <td>2</td>\n",
       "      <td>206</td>\n",
       "    </tr>\n",
       "  </tbody>\n",
       "</table>\n",
       "</div>"
      ],
      "text/plain": [
       "        a_count  ab_count  b_count  bc_count  c_count  d_count  f_count  \\\n",
       "209926       28         9        4         1        0        0        0   \n",
       "24265        58        21       48        26       40       13        0   \n",
       "60405        11         4        0         1        0        0        0   \n",
       "5939         12         4        0         0        2        0        0   \n",
       "24264        58        21       48        26       40       13        0   \n",
       "\n",
       "        start_time section_type                  course_offering_uuid  \\\n",
       "209926          -1          LEC  a35eb500-59a2-3286-8be1-18a3d4b517a8   \n",
       "24265           -1          LEC  3486d0eb-fa36-3f80-abe2-a536697d3d54   \n",
       "60405           -1          LEC  b1b5bbbc-323a-3cef-af88-6180982ab3ca   \n",
       "5939            -1          LEC  68d2d294-96b0-3083-8488-5b5363a046fa   \n",
       "24264           -1          LEC  3486d0eb-fa36-3f80-abe2-a536697d3d54   \n",
       "\n",
       "        section_number  total_count  \n",
       "209926               1           42  \n",
       "24265                2          206  \n",
       "60405                1           16  \n",
       "5939                 2           18  \n",
       "24264                2          206  "
      ]
     },
     "execution_count": 7,
     "metadata": {},
     "output_type": "execute_result"
    }
   ],
   "source": [
    "df.sort_values(by='start_time').head()"
   ]
  },
  {
   "cell_type": "markdown",
   "metadata": {},
   "source": [
    "We will drop all start_times of -1. We will also cut of irregular times (classes that start before 6AM) because these are potentially errors during input. "
   ]
  },
  {
   "cell_type": "code",
   "execution_count": 8,
   "metadata": {},
   "outputs": [
    {
     "name": "stdout",
     "output_type": "stream",
     "text": [
      "<class 'pandas.core.frame.DataFrame'>\n",
      "Int64Index: 85173 entries, 46 to 217385\n",
      "Data columns (total 12 columns):\n",
      "a_count                 85173 non-null int64\n",
      "ab_count                85173 non-null int64\n",
      "b_count                 85173 non-null int64\n",
      "bc_count                85173 non-null int64\n",
      "c_count                 85173 non-null int64\n",
      "d_count                 85173 non-null int64\n",
      "f_count                 85173 non-null int64\n",
      "start_time              85173 non-null int64\n",
      "section_type            85173 non-null object\n",
      "course_offering_uuid    85173 non-null object\n",
      "section_number          85173 non-null int64\n",
      "total_count             85173 non-null int64\n",
      "dtypes: int64(10), object(2)\n",
      "memory usage: 8.4+ MB\n"
     ]
    }
   ],
   "source": [
    "df = df[df['start_time'] >= 360]\n",
    "df.info()"
   ]
  },
  {
   "cell_type": "markdown",
   "metadata": {},
   "source": [
    "We now have 85,173 classes."
   ]
  },
  {
   "cell_type": "code",
   "execution_count": 9,
   "metadata": {},
   "outputs": [],
   "source": [
    "df2 = df.copy()"
   ]
  },
  {
   "cell_type": "code",
   "execution_count": 10,
   "metadata": {},
   "outputs": [],
   "source": [
    "# create ratio column\n",
    "df2['ratio_of_as'] = df['a_count'] / df['total_count']"
   ]
  },
  {
   "cell_type": "code",
   "execution_count": 11,
   "metadata": {},
   "outputs": [
    {
     "name": "stdout",
     "output_type": "stream",
     "text": [
      "<class 'pandas.core.frame.DataFrame'>\n",
      "Int64Index: 70987 entries, 46 to 217385\n",
      "Data columns (total 13 columns):\n",
      "a_count                 70987 non-null int64\n",
      "ab_count                70987 non-null int64\n",
      "b_count                 70987 non-null int64\n",
      "bc_count                70987 non-null int64\n",
      "c_count                 70987 non-null int64\n",
      "d_count                 70987 non-null int64\n",
      "f_count                 70987 non-null int64\n",
      "start_time              70987 non-null int64\n",
      "section_type            70987 non-null object\n",
      "course_offering_uuid    70987 non-null object\n",
      "section_number          70987 non-null int64\n",
      "total_count             70987 non-null int64\n",
      "ratio_of_as             70987 non-null float64\n",
      "dtypes: float64(1), int64(10), object(2)\n",
      "memory usage: 7.6+ MB\n"
     ]
    }
   ],
   "source": [
    "df2.drop_duplicates(inplace=True)\n",
    "df2.info()"
   ]
  },
  {
   "cell_type": "markdown",
   "metadata": {},
   "source": [
    "Dropping any potential duplicates reduces classes to 70,987"
   ]
  },
  {
   "cell_type": "code",
   "execution_count": 12,
   "metadata": {},
   "outputs": [
    {
     "name": "stderr",
     "output_type": "stream",
     "text": [
      "/Users/kaylischulz/anaconda3/envs/learn-env/lib/python3.6/site-packages/scipy/stats/stats.py:1713: FutureWarning: Using a non-tuple sequence for multidimensional indexing is deprecated; use `arr[tuple(seq)]` instead of `arr[seq]`. In the future this will be interpreted as an array index, `arr[np.array(seq)]`, which will result either in an error or a different result.\n",
      "  return np.add.reduce(sorted[indexer] * weights, axis=axis) / sumval\n"
     ]
    },
    {
     "data": {
      "image/png": "[encoded data removed]",
      "text/plain": [
       "<Figure size 432x432 with 3 Axes>"
      ]
     },
     "metadata": {
      "needs_background": "light"
     },
     "output_type": "display_data"
    }
   ],
   "source": [
    "sns.jointplot('start_time', 'ratio_of_as',df2);\n",
    "plt.title(\"Class Start Time and Ratio of A's\", loc='left')\n",
    "plt.show()"
   ]
  },
  {
   "cell_type": "markdown",
   "metadata": {},
   "source": [
    "The start times of classes appear to be very spread. Whereas there is much more classes that give a high proportion of A's to lower proportions of A's."
   ]
  },
  {
   "cell_type": "markdown",
   "metadata": {},
   "source": [
    "Create separate dataframes for AM and PM classes."
   ]
  },
  {
   "cell_type": "code",
   "execution_count": 13,
   "metadata": {},
   "outputs": [],
   "source": [
    "morning_df = df2.loc[df['start_time'] < 720]\n",
    "afternoon_df = df2.loc[df['start_time'] >= 720]"
   ]
  },
  {
   "cell_type": "code",
   "execution_count": 14,
   "metadata": {},
   "outputs": [
    {
     "name": "stdout",
     "output_type": "stream",
     "text": [
      "<class 'pandas.core.frame.DataFrame'>\n",
      "Int64Index: 31901 entries, 47 to 217383\n",
      "Data columns (total 13 columns):\n",
      "a_count                 31901 non-null int64\n",
      "ab_count                31901 non-null int64\n",
      "b_count                 31901 non-null int64\n",
      "bc_count                31901 non-null int64\n",
      "c_count                 31901 non-null int64\n",
      "d_count                 31901 non-null int64\n",
      "f_count                 31901 non-null int64\n",
      "start_time              31901 non-null int64\n",
      "section_type            31901 non-null object\n",
      "course_offering_uuid    31901 non-null object\n",
      "section_number          31901 non-null int64\n",
      "total_count             31901 non-null int64\n",
      "ratio_of_as             31901 non-null float64\n",
      "dtypes: float64(1), int64(10), object(2)\n",
      "memory usage: 3.4+ MB\n"
     ]
    }
   ],
   "source": [
    "morning_df.info()"
   ]
  },
  {
   "cell_type": "code",
   "execution_count": 15,
   "metadata": {},
   "outputs": [
    {
     "name": "stdout",
     "output_type": "stream",
     "text": [
      "<class 'pandas.core.frame.DataFrame'>\n",
      "Int64Index: 39086 entries, 46 to 217385\n",
      "Data columns (total 13 columns):\n",
      "a_count                 39086 non-null int64\n",
      "ab_count                39086 non-null int64\n",
      "b_count                 39086 non-null int64\n",
      "bc_count                39086 non-null int64\n",
      "c_count                 39086 non-null int64\n",
      "d_count                 39086 non-null int64\n",
      "f_count                 39086 non-null int64\n",
      "start_time              39086 non-null int64\n",
      "section_type            39086 non-null object\n",
      "course_offering_uuid    39086 non-null object\n",
      "section_number          39086 non-null int64\n",
      "total_count             39086 non-null int64\n",
      "ratio_of_as             39086 non-null float64\n",
      "dtypes: float64(1), int64(10), object(2)\n",
      "memory usage: 4.2+ MB\n"
     ]
    }
   ],
   "source": [
    "afternoon_df.info()"
   ]
  },
  {
   "cell_type": "markdown",
   "metadata": {},
   "source": [
    "There are 31,901 morning classes and 39,086 afternoon classes."
   ]
  },
  {
   "cell_type": "code",
   "execution_count": 16,
   "metadata": {},
   "outputs": [],
   "source": [
    "morning = morning_df['ratio_of_as']\n",
    "afternoon = afternoon_df['ratio_of_as']"
   ]
  },
  {
   "cell_type": "markdown",
   "metadata": {},
   "source": [
    "## Testing"
   ]
  },
  {
   "cell_type": "markdown",
   "metadata": {},
   "source": [
    "### Determine Sample Size"
   ]
  },
  {
   "cell_type": "code",
   "execution_count": 17,
   "metadata": {},
   "outputs": [],
   "source": [
    "moe = 0.1\n",
    "z = 1.96 # z value for alpha 0.05\n",
    "\n",
    "vars_and_ns = {'morn': (np.var(morning), len(morning)), \n",
    "               'after': (np.var(afternoon), len(afternoon))}\n",
    "\n",
    "n = get_sample_size(moe, z, vars_and_ns)"
   ]
  },
  {
   "cell_type": "code",
   "execution_count": 18,
   "metadata": {},
   "outputs": [
    {
     "data": {
      "text/plain": [
       "66"
      ]
     },
     "execution_count": 18,
     "metadata": {},
     "output_type": "execute_result"
    }
   ],
   "source": [
    "n"
   ]
  },
  {
   "cell_type": "markdown",
   "metadata": {},
   "source": [
    "We will use samples from morning and afternoon of size 66."
   ]
  },
  {
   "cell_type": "code",
   "execution_count": 19,
   "metadata": {},
   "outputs": [],
   "source": [
    "morning_sample = np.random.choice(morning, size=n)\n",
    "afternoon_sample = np.random.choice(afternoon, size=n)"
   ]
  },
  {
   "cell_type": "code",
   "execution_count": 20,
   "metadata": {},
   "outputs": [
    {
     "data": {
      "text/plain": [
       "Ttest_indResult(statistic=-1.8273860092450198, pvalue=0.06993518474322258)"
      ]
     },
     "execution_count": 20,
     "metadata": {},
     "output_type": "execute_result"
    }
   ],
   "source": [
    "stats.ttest_ind(morning_sample, afternoon_sample)"
   ]
  },
  {
   "cell_type": "markdown",
   "metadata": {},
   "source": [
    "## Evaluation\n",
    "Our p-value is greater than our halved-alpha of 0.025 (since a two-tailed test). This means that we cannot reject the null hypothesis. We cannot say that there is a statistical difference in the ratio of A's of a class depending on if the class is before or after noon. \n",
    "\n",
    "If we want to improve our schedules to increase the percentage of A's we will need to look at other factors."
   ]
  },
  {
   "cell_type": "code",
   "execution_count": null,
   "metadata": {},
   "outputs": [],
   "source": []
  }
 ],
 "metadata": {
  "kernelspec": {
   "display_name": "learn-env",
   "language": "python",
   "name": "learn-env"
  },
  "language_info": {
   "codemirror_mode": {
    "name": "ipython",
    "version": 3
   },
   "file_extension": ".py",
   "mimetype": "text/x-python",
   "name": "python",
   "nbconvert_exporter": "python",
   "pygments_lexer": "ipython3",
   "version": "3.6.6"
  }
 },
 "nbformat": 4,
 "nbformat_minor": 2
}
