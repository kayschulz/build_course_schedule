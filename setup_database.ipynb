{
 "cells": [
  {
   "cell_type": "code",
   "execution_count": 1,
   "metadata": {},
   "outputs": [],
   "source": [
    "# ! pip install psycopg2"
   ]
  },
  {
   "cell_type": "code",
   "execution_count": 5,
   "metadata": {},
   "outputs": [],
   "source": [
    "import psycopg2\n",
    "import sqlite3\n",
    "import sys\n",
    "import csv\n",
    "import pandas as pd"
   ]
  },
  {
   "cell_type": "code",
   "execution_count": 2,
   "metadata": {},
   "outputs": [],
   "source": [
    "conn = psycopg2.connect(\"host=localhost,dbname=postgres,user=postgres\")\n",
    "\n",
    "cur = conn.cursor()\n"
   ]
  },
  {
   "cell_type": "code",
   "execution_count": 3,
   "metadata": {},
   "outputs": [],
   "source": [
    "# df = pd.read_csv('uw_mad_data/course_offerings.csv')\n",
    "# cur.execute(\"\"\"DROP TABLE IF EXISTS course_offerings\"\"\")\n",
    "\n",
    "# cur.execute(\"\"\"CREATE TABLE course_offerings(\n",
    "#             uuid TEXT PRIMARY KEY\n",
    "#             ,course_uuid TEXT\n",
    "#             ,term_code INTEGER\n",
    "#             ,name TEXT)\"\"\")\n",
    "# conn.commit()\n",
    "\n",
    "f = open(\"create_tables.sql\", 'r')\n",
    "sql = f.read()\n",
    "cur.execute(sql)\n",
    "f.close()"
   ]
  },
  {
   "cell_type": "code",
   "execution_count": 4,
   "metadata": {},
   "outputs": [],
   "source": [
    "files = {'course_offerings' : 4 \n",
    "        ,'courses' : 3\n",
    "        ,'grade_distributions' : 18\n",
    "        ,'instructors' : 2\n",
    "        ,'rooms' : 3\n",
    "        ,'schedules' : 10\n",
    "        ,'sections' : 6\n",
    "        ,'subject_memberships' : 2\n",
    "        ,'subjects' : 3\n",
    "        ,'teachings' : 2}"
   ]
  },
  {
   "cell_type": "code",
   "execution_count": 5,
   "metadata": {},
   "outputs": [],
   "source": [
    "#Function for importing a csv file inot a table\n",
    "def insert_csv_to_table(filename,num_cols):\n",
    "    \"\"\"Takes the name of a table/file and the number of columns,\n",
    "    and imports the csv file into the table.\"\"\"\n",
    "    insert = \"INSERT INTO \" + filename + \" VALUES (%s\"\n",
    "\n",
    "    for _ in range(num_cols-1):\n",
    "        insert += \",%s\"\n",
    "    insert += \")\"\n",
    "    \n",
    "    print(\"Loading \" + filename + \"...\")\n",
    "    \n",
    "    with open('uw-madison-courses/' + filename + '.csv', 'r') as f:\n",
    "        reader = csv.reader(f)\n",
    "        next(reader)\n",
    "        for row in reader:\n",
    "            cur.execute(insert, row)\n",
    "    conn.commit()"
   ]
  },
  {
   "cell_type": "code",
   "execution_count": 6,
   "metadata": {},
   "outputs": [
    {
     "name": "stdout",
     "output_type": "stream",
     "text": [
      "Loading course_offerings...\n",
      "Loading courses...\n",
      "Loading grade_distributions...\n",
      "Loading instructors...\n",
      "Loading rooms...\n",
      "Loading schedules...\n",
      "Loading sections...\n",
      "Loading subject_memberships...\n",
      "Loading subjects...\n",
      "Loading teachings...\n"
     ]
    }
   ],
   "source": [
    "for name,num in files.items():\n",
    "    insert_csv_to_table(name,num)"
   ]
  },
  {
   "cell_type": "code",
   "execution_count": 7,
   "metadata": {},
   "outputs": [
    {
     "data": {
      "text/plain": [
       "[('908', 'Soil Science', 'SOIL SCI'),\n",
       " ('350', 'ENGLISH', 'ENGLISH'),\n",
       " ('351', 'English as a Second Language', 'ESL'),\n",
       " ('230', 'Human Development and Family Studies', 'HDFS'),\n",
       " ('352', 'English', 'ENGL')]"
      ]
     },
     "execution_count": 7,
     "metadata": {},
     "output_type": "execute_result"
    }
   ],
   "source": [
    "cur.execute(\"\"\"SELECT * FROM subjects LIMIT 5;\"\"\")\n",
    "cur.fetchall()"
   ]
  },
  {
   "cell_type": "code",
   "execution_count": null,
   "metadata": {},
   "outputs": [],
   "source": []
  }
 ],
 "metadata": {
  "kernelspec": {
   "display_name": "learn-env",
   "language": "python",
   "name": "learn-env"
  },
  "language_info": {
   "codemirror_mode": {
    "name": "ipython",
    "version": 3
   },
   "file_extension": ".py",
   "mimetype": "text/x-python",
   "name": "python",
   "nbconvert_exporter": "python",
   "pygments_lexer": "ipython3",
   "version": "3.6.6"
  }
 },
 "nbformat": 4,
 "nbformat_minor": 2
}
