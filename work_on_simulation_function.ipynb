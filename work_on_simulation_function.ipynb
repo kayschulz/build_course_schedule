{
 "cells": [
  {
   "cell_type": "code",
   "execution_count": 1,
   "metadata": {},
   "outputs": [],
   "source": [
    "import numpy as np\n",
    "import scipy.stats as stats\n",
    "np.random.seed(2019)"
   ]
  },
  {
   "cell_type": "code",
   "execution_count": 19,
   "metadata": {},
   "outputs": [],
   "source": [
    "def simulate_days_ttests_with_samples(days_pairs, one_day, two_days,\n",
    "                                      three_days, four_days, five_days,\n",
    "                                      seed, sample_size=30):\n",
    "    \"\"\"Takes random samples from each of the days per week dataframes. \"\"\"\n",
    "\n",
    "    np.random.seed(seed)\n",
    "\n",
    "    one_sample = np.random.choice(one_day, size=sample_size)\n",
    "    two_sample = np.random.choice(two_days, size=sample_size)\n",
    "    three_sample = np.random.choice(three_days, size=sample_size)\n",
    "    four_sample = np.random.choice(four_days, size=sample_size)\n",
    "    five_sample = np.random.choice(five_days, size=sample_size)\n",
    "\n",
    "    for days1, days2 in days_pairs:\n",
    "        if days1 == 1:\n",
    "            first = one_sample\n",
    "        elif days1 == 2:\n",
    "            first = two_sample\n",
    "        elif days1 == 3:\n",
    "            first = three_sample\n",
    "        else:\n",
    "            first = four_sample\n",
    "        if days2 == 2:\n",
    "            second = two_sample\n",
    "        elif days2 == 3:\n",
    "            second = three_sample\n",
    "        elif days2 == 4:\n",
    "            second = four_sample\n",
    "        else:\n",
    "            second = five_sample\n",
    "        print(days1, days2)\n",
    "        print(stats.ttest_ind(first, second))"
   ]
  },
  {
   "cell_type": "code",
   "execution_count": 9,
   "metadata": {},
   "outputs": [],
   "source": [
    "one_day = [1, 2, 3, 4, 5]\n",
    "two_days = [6, 7, 8, 9, 10]\n",
    "three_days = [11, 12, 13, 14, 15]\n",
    "four_days = [16, 17, 18, 19, 20]\n",
    "five_days = [21, 22, 23, 24, 25]"
   ]
  },
  {
   "cell_type": "code",
   "execution_count": 10,
   "metadata": {},
   "outputs": [
    {
     "name": "stdout",
     "output_type": "stream",
     "text": [
      "[(1, 2), (1, 3), (1, 4), (1, 5), (2, 3), (2, 4), (2, 5), (3, 4), (3, 5), (4, 5)]\n"
     ]
    }
   ],
   "source": [
    "days_pairs = []\n",
    "days = [1, 2, 3, 4, 5]\n",
    "\n",
    "for days1 in range(4):\n",
    "    for days2  in range(days1+1,5):\n",
    "        days_pairs.append((days[days1], days[days2]))\n",
    "        \n",
    "print(days_pairs)"
   ]
  },
  {
   "cell_type": "code",
   "execution_count": 20,
   "metadata": {},
   "outputs": [
    {
     "name": "stdout",
     "output_type": "stream",
     "text": [
      "1 2\n",
      "Ttest_indResult(statistic=-4.749999999999999, pvalue=0.008970902498598023)\n",
      "[1 3 1]\n",
      "1 3\n",
      "Ttest_indResult(statistic=-14.0, pvalue=0.00015101140222180054)\n",
      "[1 3 1]\n",
      "1 4\n",
      "Ttest_indResult(statistic=-12.126781251816645, pvalue=0.00026529751656953444)\n",
      "[1 3 1]\n",
      "1 5\n",
      "Ttest_indResult(statistic=-15.999999999999998, pvalue=8.921654238106093e-05)\n",
      "[1 3 1]\n",
      "2 3\n",
      "Ttest_indResult(statistic=-2.598076211353316, pvalue=0.06016984650357827)\n",
      "[1 3 1]\n",
      "2 4\n",
      "Ttest_indResult(statistic=-6.199999999999999, pvalue=0.0034417772554457505)\n",
      "[1 3 1]\n",
      "2 5\n",
      "Ttest_indResult(statistic=-9.185586535436919, pvalue=0.0007801267925694845)\n",
      "[1 3 1]\n",
      "3 4\n",
      "Ttest_indResult(statistic=-6.1017021584775195, pvalue=0.003650259898513397)\n",
      "[1 3 1]\n",
      "3 5\n",
      "Ttest_indResult(statistic=-10.392304845413264, pvalue=0.00048412775835632527)\n",
      "[1 3 1]\n",
      "4 5\n",
      "Ttest_indResult(statistic=-2.8000000000000007, pvalue=0.04881155054888408)\n",
      "[1 3 1]\n"
     ]
    }
   ],
   "source": [
    "simulate_days_ttests_with_samples(days_pairs, one_day, two_days, three_days, \n",
    "                                  four_days, five_days, sample_size=3, seed=2019)"
   ]
  },
  {
   "cell_type": "code",
   "execution_count": 21,
   "metadata": {},
   "outputs": [
    {
     "name": "stdout",
     "output_type": "stream",
     "text": [
      "1 2\n",
      "Ttest_indResult(statistic=-4.024922359499621, pvalue=0.015799848495268172)\n",
      "[2 5 1]\n",
      "1 3\n",
      "Ttest_indResult(statistic=-7.216053531635459, pvalue=0.0019556862701064553)\n",
      "[2 5 1]\n",
      "1 4\n",
      "Ttest_indResult(statistic=-10.75, pvalue=0.000424492291912209)\n",
      "[2 5 1]\n",
      "1 5\n",
      "Ttest_indResult(statistic=-13.82453062707098, pvalue=0.00015869025608715285)\n",
      "[2 5 1]\n",
      "2 3\n",
      "Ttest_indResult(statistic=-3.181980515339464, pvalue=0.033471744961631446)\n",
      "[2 5 1]\n",
      "2 4\n",
      "Ttest_indResult(statistic=-7.905694150420948, pvalue=0.0013849379404235027)\n",
      "[2 5 1]\n",
      "2 5\n",
      "Ttest_indResult(statistic=-11.758942438532781, pvalue=0.0002992430231973713)\n",
      "[2 5 1]\n",
      "3 4\n",
      "Ttest_indResult(statistic=-8.000000000000002, pvalue=0.0013238969092171666)\n",
      "[2 5 1]\n",
      "3 5\n",
      "Ttest_indResult(statistic=-13.416407864998742, pvalue=0.00017852131834470458)\n",
      "[2 5 1]\n",
      "4 5\n",
      "Ttest_indResult(statistic=-5.291502622129183, pvalue=0.00612225663817181)\n",
      "[2 5 1]\n"
     ]
    }
   ],
   "source": [
    "simulate_days_ttests_with_samples(days_pairs, one_day, two_days, three_days, four_days, five_days, sample_size=3, seed=10)"
   ]
  },
  {
   "cell_type": "code",
   "execution_count": null,
   "metadata": {},
   "outputs": [],
   "source": []
  }
 ],
 "metadata": {
  "kernelspec": {
   "display_name": "learn-env",
   "language": "python",
   "name": "learn-env"
  },
  "language_info": {
   "codemirror_mode": {
    "name": "ipython",
    "version": 3
   },
   "file_extension": ".py",
   "mimetype": "text/x-python",
   "name": "python",
   "nbconvert_exporter": "python",
   "pygments_lexer": "ipython3",
   "version": "3.6.6"
  }
 },
 "nbformat": 4,
 "nbformat_minor": 2
}
