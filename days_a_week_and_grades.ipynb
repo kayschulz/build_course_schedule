{
 "cells": [
  {
   "cell_type": "markdown",
   "metadata": {},
   "source": [
    "\n",
    "# Effect of Days per Week on Grades\n",
    "\n",
    "## Question\n",
    "\n",
    "Is there a statistically significant difference in the mean percentage of A's depending on the number of days a class meets a week?\n",
    "\n",
    "## Hypotheses\n",
    "\n",
    "*H<sub>0</sub>*: There is no significant difference in the mean percentage of A's if a class meets one day a week or 2-5 days a week. \n",
    "\n",
    "($\\mu$<sub>1</sub> = $\\mu$<sub>2</sub> = $\\mu$<sub>3</sub> = $\\mu$<sub>4</sub> = $\\mu$<sub>5</sub>)\n",
    "\n",
    "*H<sub>A</sub>*: There is a significant difference in the mean percentage of A's if a class meets one day a week or 2-5 days a week. \n",
    "\n",
    "($\\mu$<sub>1</sub> $\\neq$ $\\mu$<sub>2</sub> $\\neq$ $\\mu$<sub>3</sub> $\\neq$ $\\mu$<sub>4</sub> $\\neq$ $\\mu$<sub>5</sub>)\n",
    "\n",
    "\n",
    "## Methodology\n",
    "\n",
    "We select an *alpha* value of 0.05.\n",
    "\n",
    "First, we will perform a one-way F-statistic test first to confirm there is a significance between the five groups.\n",
    "If there is a significant difference, we will look first at a two-tail, two-sample t-test on each pairing of the days to see if there is a significant difference between two specific days. Finally, if the two sample test does show significance we will perform more testing to see if one day performs better than another day (a one-tailed, two-sample, t-test)."
   ]
  },
  {
   "cell_type": "markdown",
   "metadata": {},
   "source": [
    "### Import Necessary Libraries"
   ]
  },
  {
   "cell_type": "code",
   "execution_count": 23,
   "metadata": {},
   "outputs": [],
   "source": [
    "import math\n",
    "import psycopg2\n",
    "import pandas as pd\n",
    "import numpy as np\n",
    "import matplotlib.pyplot as plt\n",
    "%matplotlib inline\n",
    "plt.style.use('seaborn')\n",
    "import seaborn as sns\n",
    "import scipy.stats as stats\n",
    "import statsmodels.api as sm\n",
    "from statsmodels.formula.api import ols\n",
    "from simulations import simulate_days_ttests_with_samples, get_sample_size, clean_df\n",
    "\n",
    "np.random.seed(2019)"
   ]
  },
  {
   "cell_type": "markdown",
   "metadata": {},
   "source": [
    "## Data Preparation\n",
    "\n",
    "### Connect to UW-Madison PostgreSQL database"
   ]
  },
  {
   "cell_type": "code",
   "execution_count": 24,
   "metadata": {},
   "outputs": [],
   "source": [
    "conn = psycopg2.connect(\"host=localhost,dbname=postgres,user=postgres\")\n",
    "\n",
    "cur = conn.cursor()"
   ]
  },
  {
   "cell_type": "markdown",
   "metadata": {},
   "source": [
    "We are interested in the percentage of A's given in a specific course and section. While there are other grades such as \"credit\" and \"incomplete\", these grades are not given a GPA value and we will therefore ignore them and only use A-F grades. We also want to collect the days a course/section meets so we can get the total number of days that a class meets. Finally, we want the section type as we want to make sure that we measure Lecture and Seminar classes as opposed to Independent/Field Studies and Labs/Discussions (which often contribute to a lecture class' grade).\n"
   ]
  },
  {
   "cell_type": "code",
   "execution_count": 25,
   "metadata": {},
   "outputs": [],
   "source": [
    "group_and_as = \"\"\"\n",
    "SELECT \n",
    "  grade.a_count\n",
    ", grade.ab_count\n",
    ", grade.b_count\n",
    ", grade.bc_count\n",
    ", grade.c_count\n",
    ", grade.d_count\n",
    ", grade.f_count\n",
    ", sched.mon\n",
    ", sched.tues\n",
    ", sched.wed\n",
    ", sched.thurs\n",
    ", sched.fri\n",
    ", sched.sat\n",
    ", sched.sun\n",
    ", sect.section_type\n",
    ", grade.course_offering_uuid\n",
    ", grade.section_number\n",
    "FROM \n",
    "  sections sect\n",
    "INNER JOIN \n",
    "  schedules sched \n",
    "ON \n",
    "  sched.uuid = sect.schedule_uuid\n",
    "INNER JOIN \n",
    "  grade_distributions grade \n",
    "ON \n",
    "  sect.number = grade.section_number \n",
    "AND \n",
    "  sect.course_offering_uuid = grade.course_offering_uuid\n",
    "ORDER BY \n",
    "  grade.course_offering_uuid\n",
    ", grade.section_number;\n",
    "\"\"\""
   ]
  },
  {
   "cell_type": "code",
   "execution_count": 26,
   "metadata": {},
   "outputs": [
    {
     "name": "stdout",
     "output_type": "stream",
     "text": [
      "7.99262646102328 0.2667123583825133 0.18768255603751627\n"
     ]
    }
   ],
   "source": [
    "cur.execute(group_and_as)\n",
    "df = pd.DataFrame(cur.fetchall())\n",
    "df.columns = [i[0] for i in cur.description]"
   ]
  },
  {
   "cell_type": "code",
   "execution_count": 27,
   "metadata": {},
   "outputs": [
    {
     "name": "stdout",
     "output_type": "stream",
     "text": [
      "<class 'pandas.core.frame.DataFrame'>\n",
      "RangeIndex: 217399 entries, 0 to 217398\n",
      "Data columns (total 17 columns):\n",
      "a_count                 217399 non-null int64\n",
      "ab_count                217399 non-null int64\n",
      "b_count                 217399 non-null int64\n",
      "bc_count                217399 non-null int64\n",
      "c_count                 217399 non-null int64\n",
      "d_count                 217399 non-null int64\n",
      "f_count                 217399 non-null int64\n",
      "mon                     217399 non-null bool\n",
      "tues                    217399 non-null bool\n",
      "wed                     217399 non-null bool\n",
      "thurs                   217399 non-null bool\n",
      "fri                     217399 non-null bool\n",
      "sat                     217399 non-null bool\n",
      "sun                     217399 non-null bool\n",
      "section_type            217399 non-null object\n",
      "course_offering_uuid    217399 non-null object\n",
      "section_number          217399 non-null int64\n",
      "dtypes: bool(7), int64(8), object(2)\n",
      "memory usage: 18.0+ MB\n"
     ]
    }
   ],
   "source": [
    "df.info()"
   ]
  },
  {
   "cell_type": "markdown",
   "metadata": {},
   "source": [
    "Our original dataframe has 217,399 entries."
   ]
  },
  {
   "cell_type": "code",
   "execution_count": 28,
   "metadata": {},
   "outputs": [
    {
     "name": "stdout",
     "output_type": "stream",
     "text": [
      "<class 'pandas.core.frame.DataFrame'>\n",
      "Int64Index: 88368 entries, 0 to 217398\n",
      "Data columns (total 18 columns):\n",
      "a_count                 88368 non-null int64\n",
      "ab_count                88368 non-null int64\n",
      "b_count                 88368 non-null int64\n",
      "bc_count                88368 non-null int64\n",
      "c_count                 88368 non-null int64\n",
      "d_count                 88368 non-null int64\n",
      "f_count                 88368 non-null int64\n",
      "mon                     88368 non-null bool\n",
      "tues                    88368 non-null bool\n",
      "wed                     88368 non-null bool\n",
      "thurs                   88368 non-null bool\n",
      "fri                     88368 non-null bool\n",
      "sat                     88368 non-null bool\n",
      "sun                     88368 non-null bool\n",
      "section_type            88368 non-null object\n",
      "course_offering_uuid    88368 non-null object\n",
      "section_number          88368 non-null int64\n",
      "total_count             88368 non-null int64\n",
      "dtypes: bool(7), int64(9), object(2)\n",
      "memory usage: 8.7+ MB\n"
     ]
    }
   ],
   "source": [
    "df = clean_df(df) \n",
    "df.info()"
   ]
  },
  {
   "cell_type": "code",
   "execution_count": 29,
   "metadata": {},
   "outputs": [
    {
     "data": {
      "text/html": [
       "<div>\n",
       "<style scoped>\n",
       "    .dataframe tbody tr th:only-of-type {\n",
       "        vertical-align: middle;\n",
       "    }\n",
       "\n",
       "    .dataframe tbody tr th {\n",
       "        vertical-align: top;\n",
       "    }\n",
       "\n",
       "    .dataframe thead th {\n",
       "        text-align: right;\n",
       "    }\n",
       "</style>\n",
       "<table border=\"1\" class=\"dataframe\">\n",
       "  <thead>\n",
       "    <tr style=\"text-align: right;\">\n",
       "      <th></th>\n",
       "      <th>a_count</th>\n",
       "      <th>ab_count</th>\n",
       "      <th>b_count</th>\n",
       "      <th>bc_count</th>\n",
       "      <th>c_count</th>\n",
       "      <th>d_count</th>\n",
       "      <th>f_count</th>\n",
       "      <th>mon</th>\n",
       "      <th>tues</th>\n",
       "      <th>wed</th>\n",
       "      <th>thurs</th>\n",
       "      <th>fri</th>\n",
       "      <th>sat</th>\n",
       "      <th>sun</th>\n",
       "      <th>section_type</th>\n",
       "      <th>course_offering_uuid</th>\n",
       "      <th>section_number</th>\n",
       "      <th>total_count</th>\n",
       "    </tr>\n",
       "  </thead>\n",
       "  <tbody>\n",
       "    <tr>\n",
       "      <th>0</th>\n",
       "      <td>7</td>\n",
       "      <td>0</td>\n",
       "      <td>0</td>\n",
       "      <td>0</td>\n",
       "      <td>0</td>\n",
       "      <td>0</td>\n",
       "      <td>0</td>\n",
       "      <td>False</td>\n",
       "      <td>True</td>\n",
       "      <td>False</td>\n",
       "      <td>False</td>\n",
       "      <td>False</td>\n",
       "      <td>False</td>\n",
       "      <td>False</td>\n",
       "      <td>SEM</td>\n",
       "      <td>000085b6-0eb9-386e-881e-60cc62be5b62</td>\n",
       "      <td>1</td>\n",
       "      <td>7</td>\n",
       "    </tr>\n",
       "    <tr>\n",
       "      <th>1</th>\n",
       "      <td>25</td>\n",
       "      <td>19</td>\n",
       "      <td>14</td>\n",
       "      <td>9</td>\n",
       "      <td>16</td>\n",
       "      <td>2</td>\n",
       "      <td>0</td>\n",
       "      <td>False</td>\n",
       "      <td>True</td>\n",
       "      <td>False</td>\n",
       "      <td>True</td>\n",
       "      <td>False</td>\n",
       "      <td>False</td>\n",
       "      <td>False</td>\n",
       "      <td>LEC</td>\n",
       "      <td>00015734-b612-3152-bf5f-7f6855e1c0c0</td>\n",
       "      <td>1</td>\n",
       "      <td>85</td>\n",
       "    </tr>\n",
       "    <tr>\n",
       "      <th>2</th>\n",
       "      <td>7</td>\n",
       "      <td>4</td>\n",
       "      <td>0</td>\n",
       "      <td>0</td>\n",
       "      <td>0</td>\n",
       "      <td>0</td>\n",
       "      <td>0</td>\n",
       "      <td>True</td>\n",
       "      <td>False</td>\n",
       "      <td>False</td>\n",
       "      <td>False</td>\n",
       "      <td>False</td>\n",
       "      <td>False</td>\n",
       "      <td>False</td>\n",
       "      <td>LEC</td>\n",
       "      <td>0002389b-0bda-3f47-b5e7-e9d8973cb2e9</td>\n",
       "      <td>1</td>\n",
       "      <td>11</td>\n",
       "    </tr>\n",
       "    <tr>\n",
       "      <th>3</th>\n",
       "      <td>12</td>\n",
       "      <td>4</td>\n",
       "      <td>9</td>\n",
       "      <td>1</td>\n",
       "      <td>0</td>\n",
       "      <td>1</td>\n",
       "      <td>0</td>\n",
       "      <td>True</td>\n",
       "      <td>False</td>\n",
       "      <td>True</td>\n",
       "      <td>False</td>\n",
       "      <td>True</td>\n",
       "      <td>False</td>\n",
       "      <td>False</td>\n",
       "      <td>LEC</td>\n",
       "      <td>00028b06-6e42-3a3e-b484-69fd61baf978</td>\n",
       "      <td>1</td>\n",
       "      <td>27</td>\n",
       "    </tr>\n",
       "    <tr>\n",
       "      <th>19</th>\n",
       "      <td>19</td>\n",
       "      <td>3</td>\n",
       "      <td>2</td>\n",
       "      <td>1</td>\n",
       "      <td>1</td>\n",
       "      <td>0</td>\n",
       "      <td>0</td>\n",
       "      <td>False</td>\n",
       "      <td>True</td>\n",
       "      <td>False</td>\n",
       "      <td>False</td>\n",
       "      <td>False</td>\n",
       "      <td>False</td>\n",
       "      <td>False</td>\n",
       "      <td>LEC</td>\n",
       "      <td>0006b3f8-3403-35d5-bda2-9489e3c84434</td>\n",
       "      <td>1</td>\n",
       "      <td>26</td>\n",
       "    </tr>\n",
       "  </tbody>\n",
       "</table>\n",
       "</div>"
      ],
      "text/plain": [
       "    a_count  ab_count  b_count  bc_count  c_count  d_count  f_count    mon  \\\n",
       "0         7         0        0         0        0        0        0  False   \n",
       "1        25        19       14         9       16        2        0  False   \n",
       "2         7         4        0         0        0        0        0   True   \n",
       "3        12         4        9         1        0        1        0   True   \n",
       "19       19         3        2         1        1        0        0  False   \n",
       "\n",
       "     tues    wed  thurs    fri    sat    sun section_type  \\\n",
       "0    True  False  False  False  False  False          SEM   \n",
       "1    True  False   True  False  False  False          LEC   \n",
       "2   False  False  False  False  False  False          LEC   \n",
       "3   False   True  False   True  False  False          LEC   \n",
       "19   True  False  False  False  False  False          LEC   \n",
       "\n",
       "                    course_offering_uuid  section_number  total_count  \n",
       "0   000085b6-0eb9-386e-881e-60cc62be5b62               1            7  \n",
       "1   00015734-b612-3152-bf5f-7f6855e1c0c0               1           85  \n",
       "2   0002389b-0bda-3f47-b5e7-e9d8973cb2e9               1           11  \n",
       "3   00028b06-6e42-3a3e-b484-69fd61baf978               1           27  \n",
       "19  0006b3f8-3403-35d5-bda2-9489e3c84434               1           26  "
      ]
     },
     "execution_count": 29,
     "metadata": {},
     "output_type": "execute_result"
    }
   ],
   "source": [
    "df.head()"
   ]
  },
  {
   "cell_type": "markdown",
   "metadata": {},
   "source": [
    "Now there are 88,368 entries."
   ]
  },
  {
   "cell_type": "code",
   "execution_count": 30,
   "metadata": {},
   "outputs": [],
   "source": [
    "df['days_a_week'] = sum([df['mon'], df['tues'], df['wed'], df['thurs'], df['fri'], df['sat'], df['sun']])"
   ]
  },
  {
   "cell_type": "code",
   "execution_count": 31,
   "metadata": {},
   "outputs": [
    {
     "data": {
      "text/html": [
       "<div>\n",
       "<style scoped>\n",
       "    .dataframe tbody tr th:only-of-type {\n",
       "        vertical-align: middle;\n",
       "    }\n",
       "\n",
       "    .dataframe tbody tr th {\n",
       "        vertical-align: top;\n",
       "    }\n",
       "\n",
       "    .dataframe thead th {\n",
       "        text-align: right;\n",
       "    }\n",
       "</style>\n",
       "<table border=\"1\" class=\"dataframe\">\n",
       "  <thead>\n",
       "    <tr style=\"text-align: right;\">\n",
       "      <th></th>\n",
       "      <th>a_count</th>\n",
       "      <th>ab_count</th>\n",
       "      <th>b_count</th>\n",
       "      <th>bc_count</th>\n",
       "      <th>c_count</th>\n",
       "      <th>d_count</th>\n",
       "      <th>f_count</th>\n",
       "      <th>mon</th>\n",
       "      <th>tues</th>\n",
       "      <th>wed</th>\n",
       "      <th>thurs</th>\n",
       "      <th>fri</th>\n",
       "      <th>sat</th>\n",
       "      <th>sun</th>\n",
       "      <th>section_type</th>\n",
       "      <th>course_offering_uuid</th>\n",
       "      <th>section_number</th>\n",
       "      <th>total_count</th>\n",
       "      <th>days_a_week</th>\n",
       "    </tr>\n",
       "  </thead>\n",
       "  <tbody>\n",
       "    <tr>\n",
       "      <th>0</th>\n",
       "      <td>7</td>\n",
       "      <td>0</td>\n",
       "      <td>0</td>\n",
       "      <td>0</td>\n",
       "      <td>0</td>\n",
       "      <td>0</td>\n",
       "      <td>0</td>\n",
       "      <td>False</td>\n",
       "      <td>True</td>\n",
       "      <td>False</td>\n",
       "      <td>False</td>\n",
       "      <td>False</td>\n",
       "      <td>False</td>\n",
       "      <td>False</td>\n",
       "      <td>SEM</td>\n",
       "      <td>000085b6-0eb9-386e-881e-60cc62be5b62</td>\n",
       "      <td>1</td>\n",
       "      <td>7</td>\n",
       "      <td>1</td>\n",
       "    </tr>\n",
       "    <tr>\n",
       "      <th>1</th>\n",
       "      <td>25</td>\n",
       "      <td>19</td>\n",
       "      <td>14</td>\n",
       "      <td>9</td>\n",
       "      <td>16</td>\n",
       "      <td>2</td>\n",
       "      <td>0</td>\n",
       "      <td>False</td>\n",
       "      <td>True</td>\n",
       "      <td>False</td>\n",
       "      <td>True</td>\n",
       "      <td>False</td>\n",
       "      <td>False</td>\n",
       "      <td>False</td>\n",
       "      <td>LEC</td>\n",
       "      <td>00015734-b612-3152-bf5f-7f6855e1c0c0</td>\n",
       "      <td>1</td>\n",
       "      <td>85</td>\n",
       "      <td>2</td>\n",
       "    </tr>\n",
       "    <tr>\n",
       "      <th>2</th>\n",
       "      <td>7</td>\n",
       "      <td>4</td>\n",
       "      <td>0</td>\n",
       "      <td>0</td>\n",
       "      <td>0</td>\n",
       "      <td>0</td>\n",
       "      <td>0</td>\n",
       "      <td>True</td>\n",
       "      <td>False</td>\n",
       "      <td>False</td>\n",
       "      <td>False</td>\n",
       "      <td>False</td>\n",
       "      <td>False</td>\n",
       "      <td>False</td>\n",
       "      <td>LEC</td>\n",
       "      <td>0002389b-0bda-3f47-b5e7-e9d8973cb2e9</td>\n",
       "      <td>1</td>\n",
       "      <td>11</td>\n",
       "      <td>1</td>\n",
       "    </tr>\n",
       "    <tr>\n",
       "      <th>3</th>\n",
       "      <td>12</td>\n",
       "      <td>4</td>\n",
       "      <td>9</td>\n",
       "      <td>1</td>\n",
       "      <td>0</td>\n",
       "      <td>1</td>\n",
       "      <td>0</td>\n",
       "      <td>True</td>\n",
       "      <td>False</td>\n",
       "      <td>True</td>\n",
       "      <td>False</td>\n",
       "      <td>True</td>\n",
       "      <td>False</td>\n",
       "      <td>False</td>\n",
       "      <td>LEC</td>\n",
       "      <td>00028b06-6e42-3a3e-b484-69fd61baf978</td>\n",
       "      <td>1</td>\n",
       "      <td>27</td>\n",
       "      <td>3</td>\n",
       "    </tr>\n",
       "    <tr>\n",
       "      <th>19</th>\n",
       "      <td>19</td>\n",
       "      <td>3</td>\n",
       "      <td>2</td>\n",
       "      <td>1</td>\n",
       "      <td>1</td>\n",
       "      <td>0</td>\n",
       "      <td>0</td>\n",
       "      <td>False</td>\n",
       "      <td>True</td>\n",
       "      <td>False</td>\n",
       "      <td>False</td>\n",
       "      <td>False</td>\n",
       "      <td>False</td>\n",
       "      <td>False</td>\n",
       "      <td>LEC</td>\n",
       "      <td>0006b3f8-3403-35d5-bda2-9489e3c84434</td>\n",
       "      <td>1</td>\n",
       "      <td>26</td>\n",
       "      <td>1</td>\n",
       "    </tr>\n",
       "  </tbody>\n",
       "</table>\n",
       "</div>"
      ],
      "text/plain": [
       "    a_count  ab_count  b_count  bc_count  c_count  d_count  f_count    mon  \\\n",
       "0         7         0        0         0        0        0        0  False   \n",
       "1        25        19       14         9       16        2        0  False   \n",
       "2         7         4        0         0        0        0        0   True   \n",
       "3        12         4        9         1        0        1        0   True   \n",
       "19       19         3        2         1        1        0        0  False   \n",
       "\n",
       "     tues    wed  thurs    fri    sat    sun section_type  \\\n",
       "0    True  False  False  False  False  False          SEM   \n",
       "1    True  False   True  False  False  False          LEC   \n",
       "2   False  False  False  False  False  False          LEC   \n",
       "3   False   True  False   True  False  False          LEC   \n",
       "19   True  False  False  False  False  False          LEC   \n",
       "\n",
       "                    course_offering_uuid  section_number  total_count  \\\n",
       "0   000085b6-0eb9-386e-881e-60cc62be5b62               1            7   \n",
       "1   00015734-b612-3152-bf5f-7f6855e1c0c0               1           85   \n",
       "2   0002389b-0bda-3f47-b5e7-e9d8973cb2e9               1           11   \n",
       "3   00028b06-6e42-3a3e-b484-69fd61baf978               1           27   \n",
       "19  0006b3f8-3403-35d5-bda2-9489e3c84434               1           26   \n",
       "\n",
       "    days_a_week  \n",
       "0             1  \n",
       "1             2  \n",
       "2             1  \n",
       "3             3  \n",
       "19            1  "
      ]
     },
     "execution_count": 31,
     "metadata": {},
     "output_type": "execute_result"
    }
   ],
   "source": [
    "df.head()"
   ]
  },
  {
   "cell_type": "code",
   "execution_count": 32,
   "metadata": {},
   "outputs": [
    {
     "data": {
      "text/html": [
       "<div>\n",
       "<style scoped>\n",
       "    .dataframe tbody tr th:only-of-type {\n",
       "        vertical-align: middle;\n",
       "    }\n",
       "\n",
       "    .dataframe tbody tr th {\n",
       "        vertical-align: top;\n",
       "    }\n",
       "\n",
       "    .dataframe thead th {\n",
       "        text-align: right;\n",
       "    }\n",
       "</style>\n",
       "<table border=\"1\" class=\"dataframe\">\n",
       "  <thead>\n",
       "    <tr style=\"text-align: right;\">\n",
       "      <th></th>\n",
       "      <th>a_count</th>\n",
       "      <th>ab_count</th>\n",
       "      <th>b_count</th>\n",
       "      <th>bc_count</th>\n",
       "      <th>c_count</th>\n",
       "      <th>d_count</th>\n",
       "      <th>f_count</th>\n",
       "      <th>mon</th>\n",
       "      <th>tues</th>\n",
       "      <th>wed</th>\n",
       "      <th>thurs</th>\n",
       "      <th>fri</th>\n",
       "      <th>sat</th>\n",
       "      <th>sun</th>\n",
       "      <th>section_type</th>\n",
       "      <th>course_offering_uuid</th>\n",
       "      <th>section_number</th>\n",
       "      <th>total_count</th>\n",
       "      <th>days_a_week</th>\n",
       "    </tr>\n",
       "  </thead>\n",
       "  <tbody>\n",
       "    <tr>\n",
       "      <th>34900</th>\n",
       "      <td>5</td>\n",
       "      <td>1</td>\n",
       "      <td>0</td>\n",
       "      <td>0</td>\n",
       "      <td>0</td>\n",
       "      <td>0</td>\n",
       "      <td>0</td>\n",
       "      <td>True</td>\n",
       "      <td>True</td>\n",
       "      <td>True</td>\n",
       "      <td>True</td>\n",
       "      <td>True</td>\n",
       "      <td>True</td>\n",
       "      <td>True</td>\n",
       "      <td>LEC</td>\n",
       "      <td>27aea5aa-a687-3963-be2c-3d0cd3065fd1</td>\n",
       "      <td>3</td>\n",
       "      <td>6</td>\n",
       "      <td>7</td>\n",
       "    </tr>\n",
       "    <tr>\n",
       "      <th>183210</th>\n",
       "      <td>73</td>\n",
       "      <td>55</td>\n",
       "      <td>25</td>\n",
       "      <td>4</td>\n",
       "      <td>0</td>\n",
       "      <td>0</td>\n",
       "      <td>0</td>\n",
       "      <td>True</td>\n",
       "      <td>True</td>\n",
       "      <td>True</td>\n",
       "      <td>True</td>\n",
       "      <td>True</td>\n",
       "      <td>True</td>\n",
       "      <td>False</td>\n",
       "      <td>LEC</td>\n",
       "      <td>d75e7f9f-3b1f-39b6-b547-ce5cffa60597</td>\n",
       "      <td>1</td>\n",
       "      <td>157</td>\n",
       "      <td>6</td>\n",
       "    </tr>\n",
       "    <tr>\n",
       "      <th>40115</th>\n",
       "      <td>13</td>\n",
       "      <td>0</td>\n",
       "      <td>0</td>\n",
       "      <td>0</td>\n",
       "      <td>0</td>\n",
       "      <td>0</td>\n",
       "      <td>0</td>\n",
       "      <td>True</td>\n",
       "      <td>True</td>\n",
       "      <td>True</td>\n",
       "      <td>True</td>\n",
       "      <td>True</td>\n",
       "      <td>True</td>\n",
       "      <td>False</td>\n",
       "      <td>LEC</td>\n",
       "      <td>2df6f94c-0bdd-3d05-8dd1-9e412ea7341a</td>\n",
       "      <td>10</td>\n",
       "      <td>13</td>\n",
       "      <td>6</td>\n",
       "    </tr>\n",
       "    <tr>\n",
       "      <th>203151</th>\n",
       "      <td>54</td>\n",
       "      <td>44</td>\n",
       "      <td>73</td>\n",
       "      <td>4</td>\n",
       "      <td>3</td>\n",
       "      <td>0</td>\n",
       "      <td>0</td>\n",
       "      <td>True</td>\n",
       "      <td>True</td>\n",
       "      <td>True</td>\n",
       "      <td>True</td>\n",
       "      <td>True</td>\n",
       "      <td>True</td>\n",
       "      <td>False</td>\n",
       "      <td>LEC</td>\n",
       "      <td>ef968be5-8ded-39f3-89d2-045b00d3ac91</td>\n",
       "      <td>1</td>\n",
       "      <td>178</td>\n",
       "      <td>6</td>\n",
       "    </tr>\n",
       "    <tr>\n",
       "      <th>54399</th>\n",
       "      <td>9</td>\n",
       "      <td>0</td>\n",
       "      <td>0</td>\n",
       "      <td>0</td>\n",
       "      <td>0</td>\n",
       "      <td>0</td>\n",
       "      <td>0</td>\n",
       "      <td>True</td>\n",
       "      <td>True</td>\n",
       "      <td>True</td>\n",
       "      <td>True</td>\n",
       "      <td>True</td>\n",
       "      <td>True</td>\n",
       "      <td>False</td>\n",
       "      <td>LEC</td>\n",
       "      <td>3f197dde-afe0-39ba-95a7-2b7108c6fce9</td>\n",
       "      <td>7</td>\n",
       "      <td>9</td>\n",
       "      <td>6</td>\n",
       "    </tr>\n",
       "  </tbody>\n",
       "</table>\n",
       "</div>"
      ],
      "text/plain": [
       "        a_count  ab_count  b_count  bc_count  c_count  d_count  f_count   mon  \\\n",
       "34900         5         1        0         0        0        0        0  True   \n",
       "183210       73        55       25         4        0        0        0  True   \n",
       "40115        13         0        0         0        0        0        0  True   \n",
       "203151       54        44       73         4        3        0        0  True   \n",
       "54399         9         0        0         0        0        0        0  True   \n",
       "\n",
       "        tues   wed  thurs   fri   sat    sun section_type  \\\n",
       "34900   True  True   True  True  True   True          LEC   \n",
       "183210  True  True   True  True  True  False          LEC   \n",
       "40115   True  True   True  True  True  False          LEC   \n",
       "203151  True  True   True  True  True  False          LEC   \n",
       "54399   True  True   True  True  True  False          LEC   \n",
       "\n",
       "                        course_offering_uuid  section_number  total_count  \\\n",
       "34900   27aea5aa-a687-3963-be2c-3d0cd3065fd1               3            6   \n",
       "183210  d75e7f9f-3b1f-39b6-b547-ce5cffa60597               1          157   \n",
       "40115   2df6f94c-0bdd-3d05-8dd1-9e412ea7341a              10           13   \n",
       "203151  ef968be5-8ded-39f3-89d2-045b00d3ac91               1          178   \n",
       "54399   3f197dde-afe0-39ba-95a7-2b7108c6fce9               7            9   \n",
       "\n",
       "        days_a_week  \n",
       "34900             7  \n",
       "183210            6  \n",
       "40115             6  \n",
       "203151            6  \n",
       "54399             6  "
      ]
     },
     "execution_count": 32,
     "metadata": {},
     "output_type": "execute_result"
    }
   ],
   "source": [
    "df.sort_values(by='days_a_week', ascending=False).head()"
   ]
  },
  {
   "cell_type": "code",
   "execution_count": 33,
   "metadata": {},
   "outputs": [
    {
     "data": {
      "text/html": [
       "<div>\n",
       "<style scoped>\n",
       "    .dataframe tbody tr th:only-of-type {\n",
       "        vertical-align: middle;\n",
       "    }\n",
       "\n",
       "    .dataframe tbody tr th {\n",
       "        vertical-align: top;\n",
       "    }\n",
       "\n",
       "    .dataframe thead th {\n",
       "        text-align: right;\n",
       "    }\n",
       "</style>\n",
       "<table border=\"1\" class=\"dataframe\">\n",
       "  <thead>\n",
       "    <tr style=\"text-align: right;\">\n",
       "      <th></th>\n",
       "      <th>a_count</th>\n",
       "      <th>ab_count</th>\n",
       "      <th>b_count</th>\n",
       "      <th>bc_count</th>\n",
       "      <th>c_count</th>\n",
       "      <th>d_count</th>\n",
       "      <th>f_count</th>\n",
       "      <th>mon</th>\n",
       "      <th>tues</th>\n",
       "      <th>wed</th>\n",
       "      <th>thurs</th>\n",
       "      <th>fri</th>\n",
       "      <th>sat</th>\n",
       "      <th>sun</th>\n",
       "      <th>section_type</th>\n",
       "      <th>course_offering_uuid</th>\n",
       "      <th>section_number</th>\n",
       "      <th>total_count</th>\n",
       "      <th>days_a_week</th>\n",
       "    </tr>\n",
       "  </thead>\n",
       "  <tbody>\n",
       "    <tr>\n",
       "      <th>108026</th>\n",
       "      <td>13</td>\n",
       "      <td>0</td>\n",
       "      <td>0</td>\n",
       "      <td>0</td>\n",
       "      <td>0</td>\n",
       "      <td>0</td>\n",
       "      <td>0</td>\n",
       "      <td>False</td>\n",
       "      <td>False</td>\n",
       "      <td>False</td>\n",
       "      <td>False</td>\n",
       "      <td>False</td>\n",
       "      <td>False</td>\n",
       "      <td>False</td>\n",
       "      <td>SEM</td>\n",
       "      <td>7ee54799-2708-3f91-a768-681c17ec3976</td>\n",
       "      <td>2</td>\n",
       "      <td>13</td>\n",
       "      <td>0</td>\n",
       "    </tr>\n",
       "    <tr>\n",
       "      <th>177037</th>\n",
       "      <td>8</td>\n",
       "      <td>1</td>\n",
       "      <td>0</td>\n",
       "      <td>0</td>\n",
       "      <td>0</td>\n",
       "      <td>0</td>\n",
       "      <td>0</td>\n",
       "      <td>False</td>\n",
       "      <td>False</td>\n",
       "      <td>False</td>\n",
       "      <td>False</td>\n",
       "      <td>False</td>\n",
       "      <td>False</td>\n",
       "      <td>False</td>\n",
       "      <td>SEM</td>\n",
       "      <td>d000e3fe-b717-3980-b822-f9de74e67fc2</td>\n",
       "      <td>1</td>\n",
       "      <td>9</td>\n",
       "      <td>0</td>\n",
       "    </tr>\n",
       "    <tr>\n",
       "      <th>92607</th>\n",
       "      <td>6</td>\n",
       "      <td>1</td>\n",
       "      <td>0</td>\n",
       "      <td>0</td>\n",
       "      <td>0</td>\n",
       "      <td>0</td>\n",
       "      <td>0</td>\n",
       "      <td>False</td>\n",
       "      <td>False</td>\n",
       "      <td>False</td>\n",
       "      <td>False</td>\n",
       "      <td>False</td>\n",
       "      <td>False</td>\n",
       "      <td>False</td>\n",
       "      <td>LEC</td>\n",
       "      <td>6c36c33a-65ca-303a-a6a0-89bc9c136034</td>\n",
       "      <td>15</td>\n",
       "      <td>7</td>\n",
       "      <td>0</td>\n",
       "    </tr>\n",
       "    <tr>\n",
       "      <th>44095</th>\n",
       "      <td>7</td>\n",
       "      <td>0</td>\n",
       "      <td>0</td>\n",
       "      <td>0</td>\n",
       "      <td>0</td>\n",
       "      <td>0</td>\n",
       "      <td>0</td>\n",
       "      <td>False</td>\n",
       "      <td>False</td>\n",
       "      <td>False</td>\n",
       "      <td>False</td>\n",
       "      <td>False</td>\n",
       "      <td>False</td>\n",
       "      <td>False</td>\n",
       "      <td>LEC</td>\n",
       "      <td>32c1fe72-6289-3bfc-9365-22ff10e24e94</td>\n",
       "      <td>1</td>\n",
       "      <td>7</td>\n",
       "      <td>0</td>\n",
       "    </tr>\n",
       "    <tr>\n",
       "      <th>177107</th>\n",
       "      <td>9</td>\n",
       "      <td>0</td>\n",
       "      <td>0</td>\n",
       "      <td>0</td>\n",
       "      <td>0</td>\n",
       "      <td>0</td>\n",
       "      <td>0</td>\n",
       "      <td>False</td>\n",
       "      <td>False</td>\n",
       "      <td>False</td>\n",
       "      <td>False</td>\n",
       "      <td>False</td>\n",
       "      <td>False</td>\n",
       "      <td>False</td>\n",
       "      <td>LEC</td>\n",
       "      <td>d01925d6-209b-33e9-a394-a40db0ead4c0</td>\n",
       "      <td>1</td>\n",
       "      <td>9</td>\n",
       "      <td>0</td>\n",
       "    </tr>\n",
       "  </tbody>\n",
       "</table>\n",
       "</div>"
      ],
      "text/plain": [
       "        a_count  ab_count  b_count  bc_count  c_count  d_count  f_count  \\\n",
       "108026       13         0        0         0        0        0        0   \n",
       "177037        8         1        0         0        0        0        0   \n",
       "92607         6         1        0         0        0        0        0   \n",
       "44095         7         0        0         0        0        0        0   \n",
       "177107        9         0        0         0        0        0        0   \n",
       "\n",
       "          mon   tues    wed  thurs    fri    sat    sun section_type  \\\n",
       "108026  False  False  False  False  False  False  False          SEM   \n",
       "177037  False  False  False  False  False  False  False          SEM   \n",
       "92607   False  False  False  False  False  False  False          LEC   \n",
       "44095   False  False  False  False  False  False  False          LEC   \n",
       "177107  False  False  False  False  False  False  False          LEC   \n",
       "\n",
       "                        course_offering_uuid  section_number  total_count  \\\n",
       "108026  7ee54799-2708-3f91-a768-681c17ec3976               2           13   \n",
       "177037  d000e3fe-b717-3980-b822-f9de74e67fc2               1            9   \n",
       "92607   6c36c33a-65ca-303a-a6a0-89bc9c136034              15            7   \n",
       "44095   32c1fe72-6289-3bfc-9365-22ff10e24e94               1            7   \n",
       "177107  d01925d6-209b-33e9-a394-a40db0ead4c0               1            9   \n",
       "\n",
       "        days_a_week  \n",
       "108026            0  \n",
       "177037            0  \n",
       "92607             0  \n",
       "44095             0  \n",
       "177107            0  "
      ]
     },
     "execution_count": 33,
     "metadata": {},
     "output_type": "execute_result"
    }
   ],
   "source": [
    "df.sort_values(by='days_a_week', ascending=True).head()"
   ]
  },
  {
   "cell_type": "markdown",
   "metadata": {},
   "source": [
    "We will drop classes that meet 0, 6, or 7 days a week as we only want to schedule classes on a standard 5 day week."
   ]
  },
  {
   "cell_type": "code",
   "execution_count": 34,
   "metadata": {},
   "outputs": [],
   "source": [
    "df = df[df['days_a_week'] < 6]\n",
    "df = df[df['days_a_week'] > 0]"
   ]
  },
  {
   "cell_type": "code",
   "execution_count": 35,
   "metadata": {},
   "outputs": [
    {
     "name": "stdout",
     "output_type": "stream",
     "text": [
      "<class 'pandas.core.frame.DataFrame'>\n",
      "Int64Index: 85084 entries, 0 to 217398\n",
      "Data columns (total 19 columns):\n",
      "a_count                 85084 non-null int64\n",
      "ab_count                85084 non-null int64\n",
      "b_count                 85084 non-null int64\n",
      "bc_count                85084 non-null int64\n",
      "c_count                 85084 non-null int64\n",
      "d_count                 85084 non-null int64\n",
      "f_count                 85084 non-null int64\n",
      "mon                     85084 non-null bool\n",
      "tues                    85084 non-null bool\n",
      "wed                     85084 non-null bool\n",
      "thurs                   85084 non-null bool\n",
      "fri                     85084 non-null bool\n",
      "sat                     85084 non-null bool\n",
      "sun                     85084 non-null bool\n",
      "section_type            85084 non-null object\n",
      "course_offering_uuid    85084 non-null object\n",
      "section_number          85084 non-null int64\n",
      "total_count             85084 non-null int64\n",
      "days_a_week             85084 non-null int64\n",
      "dtypes: bool(7), int64(10), object(2)\n",
      "memory usage: 9.0+ MB\n"
     ]
    }
   ],
   "source": [
    "df.info()"
   ]
  },
  {
   "cell_type": "markdown",
   "metadata": {},
   "source": [
    "After dropping these rows we are left with 85,084 courses/sections."
   ]
  },
  {
   "cell_type": "markdown",
   "metadata": {},
   "source": [
    "Next, we create a copy of our data frame."
   ]
  },
  {
   "cell_type": "code",
   "execution_count": 36,
   "metadata": {},
   "outputs": [],
   "source": [
    "df2 = df.copy()"
   ]
  },
  {
   "cell_type": "markdown",
   "metadata": {},
   "source": [
    "Create a new column that represents the percentage of A's in the course/section."
   ]
  },
  {
   "cell_type": "code",
   "execution_count": 37,
   "metadata": {},
   "outputs": [],
   "source": [
    "df2['ratio_of_as'] = df['a_count'] / df['total_count']"
   ]
  },
  {
   "cell_type": "markdown",
   "metadata": {},
   "source": [
    "We want to ensure that every row is unique (has a unique combination of `course_offering_uuid` and `section_number`) so we will drop duplicates if there are any."
   ]
  },
  {
   "cell_type": "code",
   "execution_count": 38,
   "metadata": {},
   "outputs": [
    {
     "name": "stdout",
     "output_type": "stream",
     "text": [
      "<class 'pandas.core.frame.DataFrame'>\n",
      "Int64Index: 71381 entries, 0 to 217398\n",
      "Data columns (total 20 columns):\n",
      "a_count                 71381 non-null int64\n",
      "ab_count                71381 non-null int64\n",
      "b_count                 71381 non-null int64\n",
      "bc_count                71381 non-null int64\n",
      "c_count                 71381 non-null int64\n",
      "d_count                 71381 non-null int64\n",
      "f_count                 71381 non-null int64\n",
      "mon                     71381 non-null bool\n",
      "tues                    71381 non-null bool\n",
      "wed                     71381 non-null bool\n",
      "thurs                   71381 non-null bool\n",
      "fri                     71381 non-null bool\n",
      "sat                     71381 non-null bool\n",
      "sun                     71381 non-null bool\n",
      "section_type            71381 non-null object\n",
      "course_offering_uuid    71381 non-null object\n",
      "section_number          71381 non-null int64\n",
      "total_count             71381 non-null int64\n",
      "days_a_week             71381 non-null int64\n",
      "ratio_of_as             71381 non-null float64\n",
      "dtypes: bool(7), float64(1), int64(10), object(2)\n",
      "memory usage: 8.1+ MB\n"
     ]
    }
   ],
   "source": [
    "df2.drop_duplicates(inplace=True)\n",
    "df2.info()"
   ]
  },
  {
   "cell_type": "markdown",
   "metadata": {},
   "source": [
    "Dropping duplicates has brought our number of courses/sections to 71,381."
   ]
  },
  {
   "cell_type": "code",
   "execution_count": 39,
   "metadata": {},
   "outputs": [],
   "source": [
    "%config InlineBackend.figure_format = 'retina'"
   ]
  },
  {
   "cell_type": "code",
   "execution_count": 40,
   "metadata": {},
   "outputs": [
    {
     "name": "stderr",
     "output_type": "stream",
     "text": [
      "/Users/kaylischulz/anaconda3/envs/learn-env/lib/python3.6/site-packages/scipy/stats/stats.py:1713: FutureWarning: Using a non-tuple sequence for multidimensional indexing is deprecated; use `arr[tuple(seq)]` instead of `arr[seq]`. In the future this will be interpreted as an array index, `arr[np.array(seq)]`, which will result either in an error or a different result.\n",
      "  return np.add.reduce(sorted[indexer] * weights, axis=axis) / sumval\n"
     ]
    },
    {
     "data": {
      "image/png": "[encoded data removed]",
      "text/plain": [
       "<Figure size 432x432 with 3 Axes>"
      ]
     },
     "metadata": {
      "image/png": {
       "height": 425,
       "width": 649
      }
     },
     "output_type": "display_data"
    }
   ],
   "source": [
    "sns.jointplot('days_a_week', 'ratio_of_as',df2)\n",
    "plt.title(\"Days a Week and Percentage of A's at UW-Madison\", loc='left')\n",
    "plt.show();"
   ]
  },
  {
   "cell_type": "markdown",
   "metadata": {},
   "source": [
    "The scatterplot itself does not tell us too much, but if we look at the histograms we can see the most classes meet 2 days a week followed by one day a week. We can also see that a very large majority of classes have very high (almost 1.0) percentage of students that receive an A."
   ]
  },
  {
   "cell_type": "markdown",
   "metadata": {},
   "source": [
    "## Modeling/Testing"
   ]
  },
  {
   "cell_type": "markdown",
   "metadata": {},
   "source": [
    "### One-Way ANOVA\n",
    "\n",
    "Create new columns for one-hot encoding for days a class meets a week in order to perform a one-way ANOVA test."
   ]
  },
  {
   "cell_type": "code",
   "execution_count": 41,
   "metadata": {},
   "outputs": [],
   "source": [
    "dummied_days = pd.get_dummies(df2, columns=['days_a_week'])"
   ]
  },
  {
   "cell_type": "code",
   "execution_count": 42,
   "metadata": {},
   "outputs": [
    {
     "data": {
      "text/html": [
       "<div>\n",
       "<style scoped>\n",
       "    .dataframe tbody tr th:only-of-type {\n",
       "        vertical-align: middle;\n",
       "    }\n",
       "\n",
       "    .dataframe tbody tr th {\n",
       "        vertical-align: top;\n",
       "    }\n",
       "\n",
       "    .dataframe thead th {\n",
       "        text-align: right;\n",
       "    }\n",
       "</style>\n",
       "<table border=\"1\" class=\"dataframe\">\n",
       "  <thead>\n",
       "    <tr style=\"text-align: right;\">\n",
       "      <th></th>\n",
       "      <th>a_count</th>\n",
       "      <th>ab_count</th>\n",
       "      <th>b_count</th>\n",
       "      <th>bc_count</th>\n",
       "      <th>c_count</th>\n",
       "      <th>d_count</th>\n",
       "      <th>f_count</th>\n",
       "      <th>mon</th>\n",
       "      <th>tues</th>\n",
       "      <th>wed</th>\n",
       "      <th>...</th>\n",
       "      <th>section_type</th>\n",
       "      <th>course_offering_uuid</th>\n",
       "      <th>section_number</th>\n",
       "      <th>total_count</th>\n",
       "      <th>ratio_of_as</th>\n",
       "      <th>days_a_week_1</th>\n",
       "      <th>days_a_week_2</th>\n",
       "      <th>days_a_week_3</th>\n",
       "      <th>days_a_week_4</th>\n",
       "      <th>days_a_week_5</th>\n",
       "    </tr>\n",
       "  </thead>\n",
       "  <tbody>\n",
       "    <tr>\n",
       "      <th>0</th>\n",
       "      <td>7</td>\n",
       "      <td>0</td>\n",
       "      <td>0</td>\n",
       "      <td>0</td>\n",
       "      <td>0</td>\n",
       "      <td>0</td>\n",
       "      <td>0</td>\n",
       "      <td>False</td>\n",
       "      <td>True</td>\n",
       "      <td>False</td>\n",
       "      <td>...</td>\n",
       "      <td>SEM</td>\n",
       "      <td>000085b6-0eb9-386e-881e-60cc62be5b62</td>\n",
       "      <td>1</td>\n",
       "      <td>7</td>\n",
       "      <td>1.000000</td>\n",
       "      <td>1</td>\n",
       "      <td>0</td>\n",
       "      <td>0</td>\n",
       "      <td>0</td>\n",
       "      <td>0</td>\n",
       "    </tr>\n",
       "    <tr>\n",
       "      <th>1</th>\n",
       "      <td>25</td>\n",
       "      <td>19</td>\n",
       "      <td>14</td>\n",
       "      <td>9</td>\n",
       "      <td>16</td>\n",
       "      <td>2</td>\n",
       "      <td>0</td>\n",
       "      <td>False</td>\n",
       "      <td>True</td>\n",
       "      <td>False</td>\n",
       "      <td>...</td>\n",
       "      <td>LEC</td>\n",
       "      <td>00015734-b612-3152-bf5f-7f6855e1c0c0</td>\n",
       "      <td>1</td>\n",
       "      <td>85</td>\n",
       "      <td>0.294118</td>\n",
       "      <td>0</td>\n",
       "      <td>1</td>\n",
       "      <td>0</td>\n",
       "      <td>0</td>\n",
       "      <td>0</td>\n",
       "    </tr>\n",
       "    <tr>\n",
       "      <th>2</th>\n",
       "      <td>7</td>\n",
       "      <td>4</td>\n",
       "      <td>0</td>\n",
       "      <td>0</td>\n",
       "      <td>0</td>\n",
       "      <td>0</td>\n",
       "      <td>0</td>\n",
       "      <td>True</td>\n",
       "      <td>False</td>\n",
       "      <td>False</td>\n",
       "      <td>...</td>\n",
       "      <td>LEC</td>\n",
       "      <td>0002389b-0bda-3f47-b5e7-e9d8973cb2e9</td>\n",
       "      <td>1</td>\n",
       "      <td>11</td>\n",
       "      <td>0.636364</td>\n",
       "      <td>1</td>\n",
       "      <td>0</td>\n",
       "      <td>0</td>\n",
       "      <td>0</td>\n",
       "      <td>0</td>\n",
       "    </tr>\n",
       "    <tr>\n",
       "      <th>3</th>\n",
       "      <td>12</td>\n",
       "      <td>4</td>\n",
       "      <td>9</td>\n",
       "      <td>1</td>\n",
       "      <td>0</td>\n",
       "      <td>1</td>\n",
       "      <td>0</td>\n",
       "      <td>True</td>\n",
       "      <td>False</td>\n",
       "      <td>True</td>\n",
       "      <td>...</td>\n",
       "      <td>LEC</td>\n",
       "      <td>00028b06-6e42-3a3e-b484-69fd61baf978</td>\n",
       "      <td>1</td>\n",
       "      <td>27</td>\n",
       "      <td>0.444444</td>\n",
       "      <td>0</td>\n",
       "      <td>0</td>\n",
       "      <td>1</td>\n",
       "      <td>0</td>\n",
       "      <td>0</td>\n",
       "    </tr>\n",
       "    <tr>\n",
       "      <th>19</th>\n",
       "      <td>19</td>\n",
       "      <td>3</td>\n",
       "      <td>2</td>\n",
       "      <td>1</td>\n",
       "      <td>1</td>\n",
       "      <td>0</td>\n",
       "      <td>0</td>\n",
       "      <td>False</td>\n",
       "      <td>True</td>\n",
       "      <td>False</td>\n",
       "      <td>...</td>\n",
       "      <td>LEC</td>\n",
       "      <td>0006b3f8-3403-35d5-bda2-9489e3c84434</td>\n",
       "      <td>1</td>\n",
       "      <td>26</td>\n",
       "      <td>0.730769</td>\n",
       "      <td>1</td>\n",
       "      <td>0</td>\n",
       "      <td>0</td>\n",
       "      <td>0</td>\n",
       "      <td>0</td>\n",
       "    </tr>\n",
       "  </tbody>\n",
       "</table>\n",
       "<p>5 rows × 24 columns</p>\n",
       "</div>"
      ],
      "text/plain": [
       "    a_count  ab_count  b_count  bc_count  c_count  d_count  f_count    mon  \\\n",
       "0         7         0        0         0        0        0        0  False   \n",
       "1        25        19       14         9       16        2        0  False   \n",
       "2         7         4        0         0        0        0        0   True   \n",
       "3        12         4        9         1        0        1        0   True   \n",
       "19       19         3        2         1        1        0        0  False   \n",
       "\n",
       "     tues    wed      ...        section_type  \\\n",
       "0    True  False      ...                 SEM   \n",
       "1    True  False      ...                 LEC   \n",
       "2   False  False      ...                 LEC   \n",
       "3   False   True      ...                 LEC   \n",
       "19   True  False      ...                 LEC   \n",
       "\n",
       "                    course_offering_uuid  section_number  total_count  \\\n",
       "0   000085b6-0eb9-386e-881e-60cc62be5b62               1            7   \n",
       "1   00015734-b612-3152-bf5f-7f6855e1c0c0               1           85   \n",
       "2   0002389b-0bda-3f47-b5e7-e9d8973cb2e9               1           11   \n",
       "3   00028b06-6e42-3a3e-b484-69fd61baf978               1           27   \n",
       "19  0006b3f8-3403-35d5-bda2-9489e3c84434               1           26   \n",
       "\n",
       "   ratio_of_as days_a_week_1  days_a_week_2  days_a_week_3  days_a_week_4  \\\n",
       "0     1.000000             1              0              0              0   \n",
       "1     0.294118             0              1              0              0   \n",
       "2     0.636364             1              0              0              0   \n",
       "3     0.444444             0              0              1              0   \n",
       "19    0.730769             1              0              0              0   \n",
       "\n",
       "    days_a_week_5  \n",
       "0               0  \n",
       "1               0  \n",
       "2               0  \n",
       "3               0  \n",
       "19              0  \n",
       "\n",
       "[5 rows x 24 columns]"
      ]
     },
     "execution_count": 42,
     "metadata": {},
     "output_type": "execute_result"
    }
   ],
   "source": [
    "dummied_days.head()"
   ]
  },
  {
   "cell_type": "code",
   "execution_count": 44,
   "metadata": {},
   "outputs": [
    {
     "name": "stdout",
     "output_type": "stream",
     "text": [
      "                       df       sum_sq      mean_sq             F  \\\n",
      "C(days_a_week_1)      1.0  1367.433258  1367.433258  20317.545429   \n",
      "C(days_a_week_2)      1.0    12.173341    12.173341    180.873481   \n",
      "C(days_a_week_3)      1.0     5.998375     5.998375     89.124832   \n",
      "C(days_a_week_4)      1.0     3.960900     3.960900     58.851692   \n",
      "C(days_a_week_5)      1.0     0.031002     0.031002      0.460639   \n",
      "Residual          71375.0  4803.756888     0.067303           NaN   \n",
      "\n",
      "                        PR(>F)  \n",
      "C(days_a_week_1)  0.000000e+00  \n",
      "C(days_a_week_2)  3.507003e-41  \n",
      "C(days_a_week_3)  3.813544e-21  \n",
      "C(days_a_week_4)  1.721599e-14  \n",
      "C(days_a_week_5)  4.973276e-01  \n",
      "Residual                   NaN  \n"
     ]
    }
   ],
   "source": [
    "formula = 'ratio_of_as~C(days_a_week_1)+C(days_a_week_2)+C(days_a_week_3)+C(days_a_week_4)+C(days_a_week_5)'\n",
    "lm = ols(formula, dummied_days).fit()\n",
    "table = sm.stats.anova_lm(lm, type=3)\n",
    "print(table)"
   ]
  },
  {
   "cell_type": "markdown",
   "metadata": {},
   "source": [
    "Using the Bonferroni correction we adjust our *alpha* to reflect 5 independent variables (0.05 / 5). Our adjusted alpha is 0.01. Since looking at two-tailed we are looking at `PR(>F)`'s that are less than 0.005\n",
    "\n",
    "We are comparing to 1 day a week.\n",
    "\n",
    "The `PR(>F)` values are less than alpha for 2, 3, and 4 days which means we reject the null and there is a difference in the percentage of A's given whether the class meets 2 to 1, 3 to 1, or 4 to 1 days a week. The `PR(>F)` for five is greater than alpha so we fail to reject the null. There is not enough information to say that there is a difference between meeting 1 day a week and 5 days a week.\n",
    "\n",
    "The most influential of 2, 3, and 4 appears to be 2 days a week as it has the smallest `PR(>F)` value."
   ]
  },
  {
   "cell_type": "markdown",
   "metadata": {},
   "source": [
    "### One-Way F-Statistic Test\n",
    "\n",
    "For further confirmation, we check a one-way F-statistic test on the same data.\n",
    "\n",
    "First, we narrow down our dataframe to just our dependent and independent variables."
   ]
  },
  {
   "cell_type": "code",
   "execution_count": 21,
   "metadata": {},
   "outputs": [],
   "source": [
    "days_and_as = pd.DataFrame({'days_a_week': df2['days_a_week'], 'ratio_of_as': df2['ratio_of_as']})"
   ]
  },
  {
   "cell_type": "markdown",
   "metadata": {},
   "source": [
    "We then split that dataframe into separate dataframes depending on how many days a week the class meets."
   ]
  },
  {
   "cell_type": "code",
   "execution_count": 22,
   "metadata": {},
   "outputs": [],
   "source": [
    "ratios_of_as = {}\n",
    "input_dict = {'one': 1, 'two': 2, 'three': 3, 'four': 4, 'five': 5}\n",
    "for key, val in input_dict.items():\n",
    "    ratios_of_as[key] = days_and_as.loc[days_and_as['days_a_week'] == val, 'ratio_of_as']"
   ]
  },
  {
   "cell_type": "code",
   "execution_count": 23,
   "metadata": {},
   "outputs": [
    {
     "data": {
      "text/plain": [
       "F_onewayResult(statistic=5161.702969240499, pvalue=0.0)"
      ]
     },
     "execution_count": 23,
     "metadata": {},
     "output_type": "execute_result"
    }
   ],
   "source": [
    "stats.f_oneway(ratios_of_as['one'], ratios_of_as['two'],\n",
    "               ratios_of_as['three'], ratios_of_as['four'],\n",
    "               ratios_of_as['five'])"
   ]
  },
  {
   "cell_type": "markdown",
   "metadata": {},
   "source": [
    "The test tells us that there is a significant statistical difference in the mean percentage of A's by how many days a week a class meets, but it does not tell us in which pairing."
   ]
  },
  {
   "cell_type": "markdown",
   "metadata": {},
   "source": [
    "### Two-Tailed Two-Sample T-Test"
   ]
  },
  {
   "cell_type": "markdown",
   "metadata": {},
   "source": [
    "As the number of combinations is small (only 10), we will run a two-tailed, two-sample t-test on each pairing to see which pairings of the five have also show statistical significance."
   ]
  },
  {
   "cell_type": "code",
   "execution_count": 24,
   "metadata": {},
   "outputs": [],
   "source": [
    "# Generate the pairs of days\n",
    "days_pairs = []\n",
    "days = [1, 2, 3, 4, 5]\n",
    "\n",
    "for days1 in range(4):\n",
    "    for days2  in range(days1+1,5):\n",
    "        days_pairs.append((days[days1], days[days2]))"
   ]
  },
  {
   "cell_type": "code",
   "execution_count": 25,
   "metadata": {},
   "outputs": [
    {
     "name": "stdout",
     "output_type": "stream",
     "text": [
      "1 2\n",
      "Ttest_indResult(statistic=124.06730444574458, pvalue=0.0)\n",
      "1 3\n",
      "Ttest_indResult(statistic=114.51292840584203, pvalue=0.0)\n",
      "1 4\n",
      "Ttest_indResult(statistic=58.79479493159296, pvalue=0.0)\n",
      "1 5\n",
      "Ttest_indResult(statistic=33.416069628523424, pvalue=2.9967139670914265e-239)\n",
      "2 3\n",
      "Ttest_indResult(statistic=16.58871547771558, pvalue=1.2847619665452304e-61)\n",
      "2 4\n",
      "Ttest_indResult(statistic=4.502073298273162, pvalue=6.751122649941805e-06)\n",
      "2 5\n",
      "Ttest_indResult(statistic=-5.960003315452311, pvalue=2.547577395262322e-09)\n",
      "3 4\n",
      "Ttest_indResult(statistic=-4.46296307926901, pvalue=8.139153894994629e-06)\n",
      "3 5\n",
      "Ttest_indResult(statistic=-12.782980959959115, pvalue=3.257597015149319e-37)\n",
      "4 5\n",
      "Ttest_indResult(statistic=-8.030417363713108, pvalue=1.2344964015390695e-15)\n"
     ]
    }
   ],
   "source": [
    "# Conduct t-test on each pair\n",
    "for days1, days2 in days_pairs: \n",
    "    first = days_and_as.loc[days_and_as['days_a_week'] == days1, 'ratio_of_as']\n",
    "    second = days_and_as.loc[days_and_as['days_a_week'] == days2, 'ratio_of_as']\n",
    "    print(days1, days2)\n",
    "    print(stats.ttest_ind(first, second)) "
   ]
  },
  {
   "cell_type": "markdown",
   "metadata": {},
   "source": [
    "Each of these pairings is statistically significant for two-tailed tests as all p-values are less than 0.025 (half of alpha). We will make new hypotheses to test each pairing."
   ]
  },
  {
   "cell_type": "markdown",
   "metadata": {},
   "source": [
    "### One-tailed Two-Sample T-Test\n",
    "\n",
    "We will keep an *alpha* value of 0.05.\n",
    "\n",
    "Of the pairings (1,2), (1,3), (1,4), (1,5), (2,3), (2,4), (2,5), (3,4), (3,5), (4,5):\n",
    "\n",
    "Null hypothesis: The class that meets less in a pair does not have a statistically significant difference in mean percentage of A from the class the meets more times a week ($\\mu$<sub>1</sub> = $\\mu$<sub>2</sub>).\n",
    "\n",
    "Alternative: The class that meets less in a pair does have a statistically significant positive difference in mean percentage of A from the class the meets more times a week ($\\mu$<sub>1</sub> > $\\mu$<sub>2</sub>)."
   ]
  },
  {
   "cell_type": "markdown",
   "metadata": {},
   "source": [
    "#### Get Sample Size"
   ]
  },
  {
   "cell_type": "code",
   "execution_count": 26,
   "metadata": {},
   "outputs": [
    {
     "data": {
      "text/plain": [
       "52"
      ]
     },
     "execution_count": 26,
     "metadata": {},
     "output_type": "execute_result"
    }
   ],
   "source": [
    "moe = 0.1 # we chose 0.1 as this is a 10% difference in percentage of A's\n",
    "z = 1.96 # z value for alpha 0.05\n",
    "\n",
    "vars_and_n = {}\n",
    "for key, val in ratios_of_as.items():\n",
    "    vars_and_n[key] = (np.var(val), len(val))\n",
    "\n",
    "n = get_sample_size(moe, z, vars_and_n)\n",
    "n"
   ]
  },
  {
   "cell_type": "markdown",
   "metadata": {},
   "source": [
    "#### Simulate t-tests with multiple samples"
   ]
  },
  {
   "cell_type": "code",
   "execution_count": 45,
   "metadata": {},
   "outputs": [
    {
     "ename": "NameError",
     "evalue": "name 'days_pairs' is not defined",
     "output_type": "error",
     "traceback": [
      "\u001b[0;31m---------------------------------------------------------------------------\u001b[0m",
      "\u001b[0;31mNameError\u001b[0m                                 Traceback (most recent call last)",
      "\u001b[0;32m<ipython-input-45-34f71f342711>\u001b[0m in \u001b[0;36m<module>\u001b[0;34m()\u001b[0m\n\u001b[0;32m----> 1\u001b[0;31m \u001b[0msimulate_days_ttests_with_samples\u001b[0m\u001b[0;34m(\u001b[0m\u001b[0mdays_pairs\u001b[0m\u001b[0;34m,\u001b[0m \u001b[0mratios_of_as\u001b[0m\u001b[0;34m,\u001b[0m \u001b[0mseed\u001b[0m\u001b[0;34m=\u001b[0m\u001b[0;36m1\u001b[0m\u001b[0;34m,\u001b[0m \u001b[0msample_size\u001b[0m\u001b[0;34m=\u001b[0m\u001b[0mn\u001b[0m\u001b[0;34m)\u001b[0m\u001b[0;34m\u001b[0m\u001b[0m\n\u001b[0m",
      "\u001b[0;31mNameError\u001b[0m: name 'days_pairs' is not defined"
     ]
    }
   ],
   "source": [
    "simulate_days_ttests_with_samples(days_pairs, ratios_of_as, seed=1, sample_size=n)"
   ]
  },
  {
   "cell_type": "code",
   "execution_count": 28,
   "metadata": {},
   "outputs": [
    {
     "name": "stdout",
     "output_type": "stream",
     "text": [
      "1 2\n",
      "Ttest_indResult(statistic=6.335069976020563, pvalue=6.490517329392922e-09)\n",
      "1 3\n",
      "Ttest_indResult(statistic=6.6443142204990275, pvalue=1.5194435614202478e-09)\n",
      "1 4\n",
      "Ttest_indResult(statistic=5.506939107512275, pvalue=2.7419119356508785e-07)\n",
      "1 5\n",
      "Ttest_indResult(statistic=4.086721605559882, pvalue=8.734167802253428e-05)\n",
      "2 3\n",
      "Ttest_indResult(statistic=0.31152084417490516, pvalue=0.7560405252053399)\n",
      "2 4\n",
      "Ttest_indResult(statistic=-0.586412818578149, pvalue=0.558893668730179)\n",
      "2 5\n",
      "Ttest_indResult(statistic=-1.5081084817407404, pvalue=0.13461797426232405)\n",
      "3 4\n",
      "Ttest_indResult(statistic=-0.8844832876477321, pvalue=0.37851556151209076)\n",
      "3 5\n",
      "Ttest_indResult(statistic=-1.779218283672492, pvalue=0.07818260542674746)\n",
      "4 5\n",
      "Ttest_indResult(statistic=-0.9427405803719482, pvalue=0.3480411896759774)\n"
     ]
    }
   ],
   "source": [
    "simulate_days_ttests_with_samples(days_pairs, ratios_of_as, seed=5, sample_size=n)"
   ]
  },
  {
   "cell_type": "code",
   "execution_count": 29,
   "metadata": {},
   "outputs": [
    {
     "name": "stdout",
     "output_type": "stream",
     "text": [
      "1 2\n",
      "Ttest_indResult(statistic=4.478609491644254, pvalue=1.964757290931271e-05)\n",
      "1 3\n",
      "Ttest_indResult(statistic=6.3651687211897645, pvalue=5.641635672878299e-09)\n",
      "1 4\n",
      "Ttest_indResult(statistic=5.391132288860786, pvalue=4.538735491712797e-07)\n",
      "1 5\n",
      "Ttest_indResult(statistic=3.943489555133746, pvalue=0.00014749617546888497)\n",
      "2 3\n",
      "Ttest_indResult(statistic=1.542779165879793, pvalue=0.12598124703169228)\n",
      "2 4\n",
      "Ttest_indResult(statistic=0.8261641532521834, pvalue=0.41063928934024574)\n",
      "2 5\n",
      "Ttest_indResult(statistic=-0.3894453498754441, pvalue=0.697758646213868)\n",
      "3 4\n",
      "Ttest_indResult(statistic=-0.6826295938640664, pvalue=0.49638835506818735)\n",
      "3 5\n",
      "Ttest_indResult(statistic=-1.898398114450266, pvalue=0.06047023374105208)\n",
      "4 5\n",
      "Ttest_indResult(statistic=-1.1930295719728072, pvalue=0.23562552203658055)\n"
     ]
    }
   ],
   "source": [
    "simulate_days_ttests_with_samples(days_pairs, ratios_of_as, seed=10, sample_size=n)"
   ]
  },
  {
   "cell_type": "code",
   "execution_count": 30,
   "metadata": {},
   "outputs": [
    {
     "name": "stdout",
     "output_type": "stream",
     "text": [
      "1 2\n",
      "Ttest_indResult(statistic=4.275090429069045, pvalue=4.3082246181024336e-05)\n",
      "1 3\n",
      "Ttest_indResult(statistic=5.736547125730536, pvalue=9.9430982103878e-08)\n",
      "1 4\n",
      "Ttest_indResult(statistic=6.665049680033561, pvalue=1.3772404462285637e-09)\n",
      "1 5\n",
      "Ttest_indResult(statistic=4.926410101151106, pvalue=3.243378253426994e-06)\n",
      "2 3\n",
      "Ttest_indResult(statistic=1.2120594444862087, pvalue=0.2282897935676939)\n",
      "2 4\n",
      "Ttest_indResult(statistic=1.6289470353411284, pvalue=0.10640899248552634)\n",
      "2 5\n",
      "Ttest_indResult(statistic=0.48262480284506365, pvalue=0.6303963376358038)\n",
      "3 4\n",
      "Ttest_indResult(statistic=0.32586935571389536, pvalue=0.7451907916384002)\n",
      "3 5\n",
      "Ttest_indResult(statistic=-0.7475914945746839, pvalue=0.4564266631819951)\n",
      "4 5\n",
      "Ttest_indResult(statistic=-1.1393573382681819, pvalue=0.25722278051430736)\n"
     ]
    }
   ],
   "source": [
    "simulate_days_ttests_with_samples(days_pairs, ratios_of_as, seed=20, sample_size=n)"
   ]
  },
  {
   "cell_type": "markdown",
   "metadata": {},
   "source": [
    "Over four tests, we see the most significant pairings are with 1 class a week. This is because the *p-value* is always below our *alpha* value of 0.05. We then reject the null, and support the alternative that the one class a week has a greater mean ratio of A's than meeting 2-5 days a week. There are other pairings that sometimes show significance but are not consistent over many tests."
   ]
  },
  {
   "cell_type": "markdown",
   "metadata": {},
   "source": [
    "## Evaluation \n",
    "Having lecture/seminar classes once a week has a significantlly greater mean of percentages of A's than having class 2, 3, 4, or 5 times a week."
   ]
  }
 ],
 "metadata": {
  "kernelspec": {
   "display_name": "learn-env",
   "language": "python",
   "name": "learn-env"
  },
  "language_info": {
   "codemirror_mode": {
    "name": "ipython",
    "version": 3
   },
   "file_extension": ".py",
   "mimetype": "text/x-python",
   "name": "python",
   "nbconvert_exporter": "python",
   "pygments_lexer": "ipython3",
   "version": "3.6.6"
  }
 },
 "nbformat": 4,
 "nbformat_minor": 2
}
